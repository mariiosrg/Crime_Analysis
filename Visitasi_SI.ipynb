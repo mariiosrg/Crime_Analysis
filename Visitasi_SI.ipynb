{
 "cells": [
  {
   "cell_type": "code",
   "execution_count": null,
   "metadata": {
    "colab": {
     "base_uri": "https://localhost:8080/"
    },
    "id": "1-_gq4c7NFgU",
    "outputId": "83b4b9b9-a165-4a24-a3ae-979e713d8c98"
   },
   "outputs": [],
   "source": [
    "# from google.colab import drive\n",
    "# drive.mount('/content/drive')\n"
   ]
  },
  {
   "cell_type": "markdown",
   "metadata": {},
   "source": [
    "# Data Descrption\n",
    "\n",
    "Kumpulan data ini mencerminkan insiden kejahatan di Kota Los Angeles sejak tahun 2020. Data ini ditranskripsi dari laporan kejahatan asli yang diketik di atas kertas dan oleh karena itu mungkin ada beberapa ketidakakuratan dalam data tersebut. Kolom alamat hanya diberikan hingga blok ratusan terdekat untuk menjaga privasi. Data ini seakurat data dalam basis data.\n",
    "\n",
    "Daftar Kolom : \n",
    "1. <b>DR_NO</b> <br>\n",
    "Nomor Divisi Catatan: Nomor berkas resmi yang terdiri dari 2 digit pertama tahun, 1-2 digit ID area, dan 5 digit nomor lain-lain\n",
    "\n",
    "2. <b> Date Reported </b><br>\n",
    "Tanggal kejadian terlapor\n",
    "\n",
    "3. <b> Date Occured </b> <br>\n",
    "Tanggal terjadinya perkara\n",
    "\n",
    "4. <b> Area </b> <br>\n",
    "Area tempat terjadinya perkara\n",
    "\n",
    "5. <b> Victim_age </b> <br>\n",
    "Umur korban\n",
    "\n",
    "6. <b>Victim_sex</b><br>\n",
    "Jenis kelamin korban\n",
    "\n",
    "7. <b>Victim_descent</b><br>\n",
    "Ras korban : A - Other Asian , B - Black, C - Chinese, D - Cambodian, F - Filipino, G - Guamanian, H - Hispanic/Latin/Mexican, I - American Indian/Alaskan Native, J - Japanese, K - Korean, L - Laotian, O - Other, P - Pacific Islander, S - Samoan, U - Hawaiian, V - Vietnamese, W - White, X - Unknown, Z - Asian Indian\n",
    "8. <b>Premis</b><br>\n",
    "Jenis bangunan, kendaraan, atau lokasi di mana kejahatan terjadi.\n",
    "9. <b>Status</b><br>\n",
    "Status kejadian perkara saat ini\n",
    "10. <b>Location</b><br>\n",
    "Area detail terjadinya kejadian perkara\n",
    "11. <b>LON dan LAT</b><br>\n",
    "Koordinat lokasi kejadian perkara\n"
   ]
  },
  {
   "cell_type": "markdown",
   "metadata": {},
   "source": [
    "https://www.kaggle.com/datasets/kushsheth/los-angeles-police-department-lapd-crime-data\n",
    "\n",
    "https://catalog.data.gov/dataset/crime-data-from-2020-to-present\n"
   ]
  },
  {
   "cell_type": "code",
   "execution_count": 1,
   "metadata": {
    "id": "XPQUQYmpPxXy"
   },
   "outputs": [],
   "source": [
    "import pandas as pd\n",
    "import numpy as np\n",
    "import matplotlib.pyplot as plt\n",
    "import seaborn as sns\n",
    "from sklearn import *\n",
    "import plotly.express as px\n",
    "import time\n",
    "import missingno as msno\n",
    "from feature_engine.imputation import RandomSampleImputer"
   ]
  },
  {
   "cell_type": "code",
   "execution_count": 2,
   "metadata": {
    "colab": {
     "base_uri": "https://localhost:8080/"
    },
    "id": "2s4E9OmBP7SQ",
    "outputId": "140df783-65e9-44c1-9bc5-63a8e5ff44a5"
   },
   "outputs": [
    {
     "name": "stdout",
     "output_type": "stream",
     "text": [
      "Execution time: 1.9133117198944092 seconds\n"
     ]
    }
   ],
   "source": [
    "# Read Data\n",
    "start_time = time.time()\n",
    "\n",
    "data = pd.read_csv(\"Crime_Data_from_2020_to_Present.csv\",nrows=1000000)\n",
    "data\n",
    "\n",
    "end_time=time.time()\n",
    "execution_time = end_time - start_time\n",
    "print(f\"Execution time: {execution_time} seconds\")"
   ]
  },
  {
   "cell_type": "markdown",
   "metadata": {
    "id": "0xh9L_l9Yj-z"
   },
   "source": [
    "# Data Understanding"
   ]
  },
  {
   "cell_type": "code",
   "execution_count": 3,
   "metadata": {
    "colab": {
     "base_uri": "https://localhost:8080/"
    },
    "id": "A5RsNsvSQAgh",
    "outputId": "57b35ca0-96e6-4283-8a6a-9bcfb165eebe"
   },
   "outputs": [
    {
     "name": "stdout",
     "output_type": "stream",
     "text": [
      "<class 'pandas.core.frame.DataFrame'>\n",
      "RangeIndex: 974477 entries, 0 to 974476\n",
      "Data columns (total 15 columns):\n",
      " #   Column          Non-Null Count   Dtype  \n",
      "---  ------          --------------   -----  \n",
      " 0   DR_NO           974477 non-null  int64  \n",
      " 1   Date_Reported   974477 non-null  object \n",
      " 2   Date_occured    974477 non-null  object \n",
      " 3   Time_occured    974477 non-null  int64  \n",
      " 4   Area            974477 non-null  object \n",
      " 5   Crime_Code      974477 non-null  object \n",
      " 6   Victim_age      974477 non-null  int64  \n",
      " 7   Victim_sex      838474 non-null  object \n",
      " 8   Victim_descent  838464 non-null  object \n",
      " 9   Premis          973893 non-null  object \n",
      " 10  Weapon          325782 non-null  object \n",
      " 11  Status          974477 non-null  object \n",
      " 12  LOCATION        974477 non-null  object \n",
      " 13  LAT             974477 non-null  float64\n",
      " 14  LON             974477 non-null  float64\n",
      "dtypes: float64(2), int64(3), object(10)\n",
      "memory usage: 111.5+ MB\n"
     ]
    }
   ],
   "source": [
    "data.info()"
   ]
  },
  {
   "cell_type": "code",
   "execution_count": 4,
   "metadata": {
    "colab": {
     "base_uri": "https://localhost:8080/"
    },
    "id": "2DpxUU3pb20U",
    "outputId": "d3d5a54f-5c79-4cfd-f32f-19fd2ed40066"
   },
   "outputs": [
    {
     "data": {
      "text/plain": [
       "79"
      ]
     },
     "execution_count": 4,
     "metadata": {},
     "output_type": "execute_result"
    }
   ],
   "source": [
    "# Identifikasi banyaknya nilai unique pada kolom \"Weapon\"\n",
    "data.Weapon.nunique()"
   ]
  },
  {
   "cell_type": "markdown",
   "metadata": {
    "id": "t6BB5kzMdQ7l"
   },
   "source": [
    "1) <b>Mengidentifikasi macam-macam senjata digunakan, hal ini ditujukan kenapa weapon banyak yang kosong</b>"
   ]
  },
  {
   "cell_type": "code",
   "execution_count": 5,
   "metadata": {
    "colab": {
     "base_uri": "https://localhost:8080/",
     "height": 721
    },
    "id": "1e1GcKY1dX4D",
    "outputId": "666286c0-ec34-4039-9b35-014d7cc2f686"
   },
   "outputs": [
    {
     "data": {
      "text/html": [
       "<div>\n",
       "<style scoped>\n",
       "    .dataframe tbody tr th:only-of-type {\n",
       "        vertical-align: middle;\n",
       "    }\n",
       "\n",
       "    .dataframe tbody tr th {\n",
       "        vertical-align: top;\n",
       "    }\n",
       "\n",
       "    .dataframe thead th {\n",
       "        text-align: right;\n",
       "    }\n",
       "</style>\n",
       "<table border=\"1\" class=\"dataframe\">\n",
       "  <thead>\n",
       "    <tr style=\"text-align: right;\">\n",
       "      <th></th>\n",
       "      <th>DR_NO</th>\n",
       "      <th>Date_Reported</th>\n",
       "      <th>Date_occured</th>\n",
       "      <th>Time_occured</th>\n",
       "      <th>Area</th>\n",
       "      <th>Crime_Code</th>\n",
       "      <th>Victim_age</th>\n",
       "      <th>Victim_sex</th>\n",
       "      <th>Victim_descent</th>\n",
       "      <th>Premis</th>\n",
       "      <th>Weapon</th>\n",
       "      <th>Status</th>\n",
       "      <th>LOCATION</th>\n",
       "      <th>LAT</th>\n",
       "      <th>LON</th>\n",
       "    </tr>\n",
       "  </thead>\n",
       "  <tbody>\n",
       "    <tr>\n",
       "      <th>0</th>\n",
       "      <td>190326475</td>\n",
       "      <td>03/01/20 0:00</td>\n",
       "      <td>03/01/20 0:00</td>\n",
       "      <td>2130</td>\n",
       "      <td>Wilshire</td>\n",
       "      <td>VEHICLE - STOLEN</td>\n",
       "      <td>0</td>\n",
       "      <td>M</td>\n",
       "      <td>O</td>\n",
       "      <td>STREET</td>\n",
       "      <td>NaN</td>\n",
       "      <td>Adult Arrest</td>\n",
       "      <td>1900 S  LONGWOOD                     AV</td>\n",
       "      <td>34.0375</td>\n",
       "      <td>-118.3506</td>\n",
       "    </tr>\n",
       "    <tr>\n",
       "      <th>1</th>\n",
       "      <td>200106753</td>\n",
       "      <td>02/09/20 0:00</td>\n",
       "      <td>02/08/20 0:00</td>\n",
       "      <td>1800</td>\n",
       "      <td>Central</td>\n",
       "      <td>BURGLARY FROM VEHICLE</td>\n",
       "      <td>47</td>\n",
       "      <td>M</td>\n",
       "      <td>O</td>\n",
       "      <td>BUS STOP/LAYOVER (ALSO QUERY 124)</td>\n",
       "      <td>NaN</td>\n",
       "      <td>Invest Cont</td>\n",
       "      <td>1000 S  FLOWER                       ST</td>\n",
       "      <td>34.0444</td>\n",
       "      <td>-118.2628</td>\n",
       "    </tr>\n",
       "    <tr>\n",
       "      <th>2</th>\n",
       "      <td>200320258</td>\n",
       "      <td>11/11/20 0:00</td>\n",
       "      <td>11/04/20 0:00</td>\n",
       "      <td>1700</td>\n",
       "      <td>Southwest</td>\n",
       "      <td>BIKE - STOLEN</td>\n",
       "      <td>19</td>\n",
       "      <td>X</td>\n",
       "      <td>X</td>\n",
       "      <td>MULTI-UNIT DWELLING (APARTMENT, DUPLEX, ETC)</td>\n",
       "      <td>NaN</td>\n",
       "      <td>Invest Cont</td>\n",
       "      <td>1400 W  37TH                         ST</td>\n",
       "      <td>34.0210</td>\n",
       "      <td>-118.3002</td>\n",
       "    </tr>\n",
       "    <tr>\n",
       "      <th>3</th>\n",
       "      <td>200907217</td>\n",
       "      <td>05/10/23 0:00</td>\n",
       "      <td>03/10/20 0:00</td>\n",
       "      <td>2037</td>\n",
       "      <td>Van Nuys</td>\n",
       "      <td>SHOPLIFTING-GRAND THEFT ($950.01 &amp; OVER)</td>\n",
       "      <td>19</td>\n",
       "      <td>M</td>\n",
       "      <td>O</td>\n",
       "      <td>CLOTHING STORE</td>\n",
       "      <td>NaN</td>\n",
       "      <td>Invest Cont</td>\n",
       "      <td>14000    RIVERSIDE                    DR</td>\n",
       "      <td>34.1576</td>\n",
       "      <td>-118.4387</td>\n",
       "    </tr>\n",
       "    <tr>\n",
       "      <th>4</th>\n",
       "      <td>220614831</td>\n",
       "      <td>08/18/2022 12:00:00 AM</td>\n",
       "      <td>08/17/2020 12:00:00 AM</td>\n",
       "      <td>1200</td>\n",
       "      <td>Hollywood</td>\n",
       "      <td>THEFT OF IDENTITY</td>\n",
       "      <td>28</td>\n",
       "      <td>M</td>\n",
       "      <td>H</td>\n",
       "      <td>SIDEWALK</td>\n",
       "      <td>NaN</td>\n",
       "      <td>Invest Cont</td>\n",
       "      <td>1900    TRANSIENT</td>\n",
       "      <td>34.0944</td>\n",
       "      <td>-118.3277</td>\n",
       "    </tr>\n",
       "    <tr>\n",
       "      <th>...</th>\n",
       "      <td>...</td>\n",
       "      <td>...</td>\n",
       "      <td>...</td>\n",
       "      <td>...</td>\n",
       "      <td>...</td>\n",
       "      <td>...</td>\n",
       "      <td>...</td>\n",
       "      <td>...</td>\n",
       "      <td>...</td>\n",
       "      <td>...</td>\n",
       "      <td>...</td>\n",
       "      <td>...</td>\n",
       "      <td>...</td>\n",
       "      <td>...</td>\n",
       "      <td>...</td>\n",
       "    </tr>\n",
       "    <tr>\n",
       "      <th>974469</th>\n",
       "      <td>242106032</td>\n",
       "      <td>02/20/2024 12:00:00 AM</td>\n",
       "      <td>02/17/2024 12:00:00 AM</td>\n",
       "      <td>2330</td>\n",
       "      <td>Topanga</td>\n",
       "      <td>THEFT FROM MOTOR VEHICLE - PETTY ($950 &amp; UNDER)</td>\n",
       "      <td>44</td>\n",
       "      <td>F</td>\n",
       "      <td>O</td>\n",
       "      <td>DRIVEWAY</td>\n",
       "      <td>NaN</td>\n",
       "      <td>Invest Cont</td>\n",
       "      <td>22700    NAPA                         ST</td>\n",
       "      <td>34.2260</td>\n",
       "      <td>-118.6214</td>\n",
       "    </tr>\n",
       "    <tr>\n",
       "      <th>974471</th>\n",
       "      <td>242011172</td>\n",
       "      <td>08/20/2024 12:00:00 AM</td>\n",
       "      <td>08/17/2024 12:00:00 AM</td>\n",
       "      <td>2300</td>\n",
       "      <td>Olympic</td>\n",
       "      <td>THEFT-GRAND ($950.01 &amp; OVER)EXCPT,GUNS,FOWL,LI...</td>\n",
       "      <td>36</td>\n",
       "      <td>F</td>\n",
       "      <td>C</td>\n",
       "      <td>BAR/COCKTAIL/NIGHTCLUB</td>\n",
       "      <td>NaN</td>\n",
       "      <td>Invest Cont</td>\n",
       "      <td>3700    WILSHIRE                     BL</td>\n",
       "      <td>34.0617</td>\n",
       "      <td>-118.3066</td>\n",
       "    </tr>\n",
       "    <tr>\n",
       "      <th>974472</th>\n",
       "      <td>240710284</td>\n",
       "      <td>07/24/2024 12:00:00 AM</td>\n",
       "      <td>07/23/2024 12:00:00 AM</td>\n",
       "      <td>1400</td>\n",
       "      <td>Wilshire</td>\n",
       "      <td>VEHICLE - STOLEN</td>\n",
       "      <td>0</td>\n",
       "      <td>NaN</td>\n",
       "      <td>NaN</td>\n",
       "      <td>STREET</td>\n",
       "      <td>NaN</td>\n",
       "      <td>Invest Cont</td>\n",
       "      <td>4000 W  23RD                         ST</td>\n",
       "      <td>34.0362</td>\n",
       "      <td>-118.3284</td>\n",
       "    </tr>\n",
       "    <tr>\n",
       "      <th>974474</th>\n",
       "      <td>241711348</td>\n",
       "      <td>07/19/2024 12:00:00 AM</td>\n",
       "      <td>07/19/2024 12:00:00 AM</td>\n",
       "      <td>757</td>\n",
       "      <td>Devonshire</td>\n",
       "      <td>TRESPASSING</td>\n",
       "      <td>0</td>\n",
       "      <td>X</td>\n",
       "      <td>X</td>\n",
       "      <td>MTA - ORANGE LINE - CHATSWORTH</td>\n",
       "      <td>NaN</td>\n",
       "      <td>Invest Cont</td>\n",
       "      <td>10000    OLD DEPOT PLAZA              RD</td>\n",
       "      <td>34.2500</td>\n",
       "      <td>-118.5990</td>\n",
       "    </tr>\n",
       "    <tr>\n",
       "      <th>974476</th>\n",
       "      <td>240910892</td>\n",
       "      <td>08/13/2024 12:00:00 AM</td>\n",
       "      <td>08/12/24 0:00</td>\n",
       "      <td>2300</td>\n",
       "      <td>Van Nuys</td>\n",
       "      <td>VEHICLE - STOLEN</td>\n",
       "      <td>0</td>\n",
       "      <td>NaN</td>\n",
       "      <td>NaN</td>\n",
       "      <td>PARKING LOT</td>\n",
       "      <td>NaN</td>\n",
       "      <td>Invest Cont</td>\n",
       "      <td>6900    VESPER                       AV</td>\n",
       "      <td>34.1961</td>\n",
       "      <td>-118.4510</td>\n",
       "    </tr>\n",
       "  </tbody>\n",
       "</table>\n",
       "<p>648974 rows × 15 columns</p>\n",
       "</div>"
      ],
      "text/plain": [
       "            DR_NO           Date_Reported            Date_occured  \\\n",
       "0       190326475           03/01/20 0:00           03/01/20 0:00   \n",
       "1       200106753           02/09/20 0:00           02/08/20 0:00   \n",
       "2       200320258           11/11/20 0:00           11/04/20 0:00   \n",
       "3       200907217           05/10/23 0:00           03/10/20 0:00   \n",
       "4       220614831  08/18/2022 12:00:00 AM  08/17/2020 12:00:00 AM   \n",
       "...           ...                     ...                     ...   \n",
       "974469  242106032  02/20/2024 12:00:00 AM  02/17/2024 12:00:00 AM   \n",
       "974471  242011172  08/20/2024 12:00:00 AM  08/17/2024 12:00:00 AM   \n",
       "974472  240710284  07/24/2024 12:00:00 AM  07/23/2024 12:00:00 AM   \n",
       "974474  241711348  07/19/2024 12:00:00 AM  07/19/2024 12:00:00 AM   \n",
       "974476  240910892  08/13/2024 12:00:00 AM           08/12/24 0:00   \n",
       "\n",
       "        Time_occured        Area  \\\n",
       "0               2130    Wilshire   \n",
       "1               1800     Central   \n",
       "2               1700   Southwest   \n",
       "3               2037    Van Nuys   \n",
       "4               1200   Hollywood   \n",
       "...              ...         ...   \n",
       "974469          2330     Topanga   \n",
       "974471          2300     Olympic   \n",
       "974472          1400    Wilshire   \n",
       "974474           757  Devonshire   \n",
       "974476          2300    Van Nuys   \n",
       "\n",
       "                                               Crime_Code  Victim_age  \\\n",
       "0                                        VEHICLE - STOLEN           0   \n",
       "1                                   BURGLARY FROM VEHICLE          47   \n",
       "2                                           BIKE - STOLEN          19   \n",
       "3                SHOPLIFTING-GRAND THEFT ($950.01 & OVER)          19   \n",
       "4                                       THEFT OF IDENTITY          28   \n",
       "...                                                   ...         ...   \n",
       "974469    THEFT FROM MOTOR VEHICLE - PETTY ($950 & UNDER)          44   \n",
       "974471  THEFT-GRAND ($950.01 & OVER)EXCPT,GUNS,FOWL,LI...          36   \n",
       "974472                                   VEHICLE - STOLEN           0   \n",
       "974474                                        TRESPASSING           0   \n",
       "974476                                   VEHICLE - STOLEN           0   \n",
       "\n",
       "       Victim_sex Victim_descent  \\\n",
       "0               M              O   \n",
       "1               M              O   \n",
       "2               X              X   \n",
       "3               M              O   \n",
       "4               M              H   \n",
       "...           ...            ...   \n",
       "974469          F              O   \n",
       "974471          F              C   \n",
       "974472        NaN            NaN   \n",
       "974474          X              X   \n",
       "974476        NaN            NaN   \n",
       "\n",
       "                                              Premis Weapon        Status  \\\n",
       "0                                             STREET    NaN  Adult Arrest   \n",
       "1                  BUS STOP/LAYOVER (ALSO QUERY 124)    NaN   Invest Cont   \n",
       "2       MULTI-UNIT DWELLING (APARTMENT, DUPLEX, ETC)    NaN   Invest Cont   \n",
       "3                                     CLOTHING STORE    NaN   Invest Cont   \n",
       "4                                           SIDEWALK    NaN   Invest Cont   \n",
       "...                                              ...    ...           ...   \n",
       "974469                                      DRIVEWAY    NaN   Invest Cont   \n",
       "974471                        BAR/COCKTAIL/NIGHTCLUB    NaN   Invest Cont   \n",
       "974472                                        STREET    NaN   Invest Cont   \n",
       "974474                MTA - ORANGE LINE - CHATSWORTH    NaN   Invest Cont   \n",
       "974476                                   PARKING LOT    NaN   Invest Cont   \n",
       "\n",
       "                                        LOCATION      LAT       LON  \n",
       "0        1900 S  LONGWOOD                     AV  34.0375 -118.3506  \n",
       "1        1000 S  FLOWER                       ST  34.0444 -118.2628  \n",
       "2        1400 W  37TH                         ST  34.0210 -118.3002  \n",
       "3       14000    RIVERSIDE                    DR  34.1576 -118.4387  \n",
       "4                              1900    TRANSIENT  34.0944 -118.3277  \n",
       "...                                          ...      ...       ...  \n",
       "974469  22700    NAPA                         ST  34.2260 -118.6214  \n",
       "974471   3700    WILSHIRE                     BL  34.0617 -118.3066  \n",
       "974472   4000 W  23RD                         ST  34.0362 -118.3284  \n",
       "974474  10000    OLD DEPOT PLAZA              RD  34.2500 -118.5990  \n",
       "974476   6900    VESPER                       AV  34.1961 -118.4510  \n",
       "\n",
       "[648974 rows x 15 columns]"
      ]
     },
     "execution_count": 5,
     "metadata": {},
     "output_type": "execute_result"
    }
   ],
   "source": [
    "data[data.isna().any(axis=1)]"
   ]
  },
  {
   "cell_type": "code",
   "execution_count": 6,
   "metadata": {
    "colab": {
     "base_uri": "https://localhost:8080/",
     "height": 559
    },
    "collapsed": true,
    "id": "Z097PpNefmG0",
    "jupyter": {
     "outputs_hidden": true
    },
    "outputId": "85a1aa19-5ab8-487a-d379-cc0344933f4c",
    "tags": []
   },
   "outputs": [
    {
     "ename": "TypeError",
     "evalue": "type object got multiple values for keyword argument 'visible'",
     "output_type": "error",
     "traceback": [
      "\u001b[0;31m---------------------------------------------------------------------------\u001b[0m",
      "\u001b[0;31mTypeError\u001b[0m                                 Traceback (most recent call last)",
      "Input \u001b[0;32mIn [6]\u001b[0m, in \u001b[0;36m<cell line: 1>\u001b[0;34m()\u001b[0m\n\u001b[0;32m----> 1\u001b[0m \u001b[43mmsno\u001b[49m\u001b[38;5;241;43m.\u001b[39;49m\u001b[43mmatrix\u001b[49m\u001b[43m(\u001b[49m\u001b[43mdata\u001b[49m\u001b[43m)\u001b[49m\n",
      "File \u001b[0;32m~/.local/lib/python3.8/site-packages/missingno/missingno.py:86\u001b[0m, in \u001b[0;36mmatrix\u001b[0;34m(df, filter, n, p, sort, figsize, width_ratios, color, fontsize, labels, label_rotation, sparkline, freq, ax)\u001b[0m\n\u001b[1;32m     84\u001b[0m \u001b[38;5;28;01mif\u001b[39;00m labels \u001b[38;5;129;01mor\u001b[39;00m (labels \u001b[38;5;129;01mis\u001b[39;00m \u001b[38;5;28;01mNone\u001b[39;00m \u001b[38;5;129;01mand\u001b[39;00m \u001b[38;5;28mlen\u001b[39m(df\u001b[38;5;241m.\u001b[39mcolumns) \u001b[38;5;241m<\u001b[39m\u001b[38;5;241m=\u001b[39m \u001b[38;5;241m50\u001b[39m):\n\u001b[1;32m     85\u001b[0m     ha \u001b[38;5;241m=\u001b[39m \u001b[38;5;124m'\u001b[39m\u001b[38;5;124mleft\u001b[39m\u001b[38;5;124m'\u001b[39m\n\u001b[0;32m---> 86\u001b[0m     \u001b[43max0\u001b[49m\u001b[38;5;241;43m.\u001b[39;49m\u001b[43mset_xticks\u001b[49m\u001b[43m(\u001b[49m\u001b[38;5;28;43mlist\u001b[39;49m\u001b[43m(\u001b[49m\u001b[38;5;28;43mrange\u001b[39;49m\u001b[43m(\u001b[49m\u001b[38;5;241;43m0\u001b[39;49m\u001b[43m,\u001b[49m\u001b[43m \u001b[49m\u001b[43mwidth\u001b[49m\u001b[43m)\u001b[49m\u001b[43m)\u001b[49m\u001b[43m)\u001b[49m\n\u001b[1;32m     87\u001b[0m     ax0\u001b[38;5;241m.\u001b[39mset_xticklabels(\u001b[38;5;28mlist\u001b[39m(df\u001b[38;5;241m.\u001b[39mcolumns), rotation\u001b[38;5;241m=\u001b[39mlabel_rotation, ha\u001b[38;5;241m=\u001b[39mha, fontsize\u001b[38;5;241m=\u001b[39mfontsize)\n\u001b[1;32m     88\u001b[0m \u001b[38;5;28;01melse\u001b[39;00m:\n",
      "File \u001b[0;32m/usr/local/lib/python3.8/dist-packages/matplotlib/axes/_base.py:63\u001b[0m, in \u001b[0;36m_axis_method_wrapper.__set_name__.<locals>.wrapper\u001b[0;34m(self, *args, **kwargs)\u001b[0m\n\u001b[1;32m     62\u001b[0m \u001b[38;5;28;01mdef\u001b[39;00m \u001b[38;5;21mwrapper\u001b[39m(\u001b[38;5;28mself\u001b[39m, \u001b[38;5;241m*\u001b[39margs, \u001b[38;5;241m*\u001b[39m\u001b[38;5;241m*\u001b[39mkwargs):\n\u001b[0;32m---> 63\u001b[0m     \u001b[38;5;28;01mreturn\u001b[39;00m \u001b[43mget_method\u001b[49m\u001b[43m(\u001b[49m\u001b[38;5;28;43mself\u001b[39;49m\u001b[43m)\u001b[49m\u001b[43m(\u001b[49m\u001b[38;5;241;43m*\u001b[39;49m\u001b[43margs\u001b[49m\u001b[43m,\u001b[49m\u001b[43m \u001b[49m\u001b[38;5;241;43m*\u001b[39;49m\u001b[38;5;241;43m*\u001b[39;49m\u001b[43mkwargs\u001b[49m\u001b[43m)\u001b[49m\n",
      "File \u001b[0;32m/usr/local/lib/python3.8/dist-packages/matplotlib/cbook/deprecation.py:451\u001b[0m, in \u001b[0;36m_make_keyword_only.<locals>.wrapper\u001b[0;34m(*args, **kwargs)\u001b[0m\n\u001b[1;32m    445\u001b[0m \u001b[38;5;28;01mif\u001b[39;00m \u001b[38;5;28mlen\u001b[39m(args) \u001b[38;5;241m>\u001b[39m idx:\n\u001b[1;32m    446\u001b[0m     warn_deprecated(\n\u001b[1;32m    447\u001b[0m         since, message\u001b[38;5;241m=\u001b[39m\u001b[38;5;124m\"\u001b[39m\u001b[38;5;124mPassing the \u001b[39m\u001b[38;5;132;01m%(name)s\u001b[39;00m\u001b[38;5;124m \u001b[39m\u001b[38;5;132;01m%(obj_type)s\u001b[39;00m\u001b[38;5;124m \u001b[39m\u001b[38;5;124m\"\u001b[39m\n\u001b[1;32m    448\u001b[0m         \u001b[38;5;124m\"\u001b[39m\u001b[38;5;124mpositionally is deprecated since Matplotlib \u001b[39m\u001b[38;5;132;01m%(since)s\u001b[39;00m\u001b[38;5;124m; the \u001b[39m\u001b[38;5;124m\"\u001b[39m\n\u001b[1;32m    449\u001b[0m         \u001b[38;5;124m\"\u001b[39m\u001b[38;5;124mparameter will become keyword-only \u001b[39m\u001b[38;5;132;01m%(removal)s\u001b[39;00m\u001b[38;5;124m.\u001b[39m\u001b[38;5;124m\"\u001b[39m,\n\u001b[1;32m    450\u001b[0m         name\u001b[38;5;241m=\u001b[39mname, obj_type\u001b[38;5;241m=\u001b[39m\u001b[38;5;124mf\u001b[39m\u001b[38;5;124m\"\u001b[39m\u001b[38;5;124mparameter of \u001b[39m\u001b[38;5;132;01m{\u001b[39;00mfunc\u001b[38;5;241m.\u001b[39m\u001b[38;5;18m__name__\u001b[39m\u001b[38;5;132;01m}\u001b[39;00m\u001b[38;5;124m()\u001b[39m\u001b[38;5;124m\"\u001b[39m)\n\u001b[0;32m--> 451\u001b[0m \u001b[38;5;28;01mreturn\u001b[39;00m \u001b[43mfunc\u001b[49m\u001b[43m(\u001b[49m\u001b[38;5;241;43m*\u001b[39;49m\u001b[43margs\u001b[49m\u001b[43m,\u001b[49m\u001b[43m \u001b[49m\u001b[38;5;241;43m*\u001b[39;49m\u001b[38;5;241;43m*\u001b[39;49m\u001b[43mkwargs\u001b[49m\u001b[43m)\u001b[49m\n",
      "File \u001b[0;32m/usr/local/lib/python3.8/dist-packages/matplotlib/axis.py:1821\u001b[0m, in \u001b[0;36mAxis.set_ticks\u001b[0;34m(self, ticks, minor)\u001b[0m\n\u001b[1;32m   1819\u001b[0m \u001b[38;5;28;01melse\u001b[39;00m:\n\u001b[1;32m   1820\u001b[0m     \u001b[38;5;28mself\u001b[39m\u001b[38;5;241m.\u001b[39mset_major_locator(mticker\u001b[38;5;241m.\u001b[39mFixedLocator(ticks))\n\u001b[0;32m-> 1821\u001b[0m     \u001b[38;5;28;01mreturn\u001b[39;00m \u001b[38;5;28;43mself\u001b[39;49m\u001b[38;5;241;43m.\u001b[39;49m\u001b[43mget_major_ticks\u001b[49m\u001b[43m(\u001b[49m\u001b[38;5;28;43mlen\u001b[39;49m\u001b[43m(\u001b[49m\u001b[43mticks\u001b[49m\u001b[43m)\u001b[49m\u001b[43m)\u001b[49m\n",
      "File \u001b[0;32m/usr/local/lib/python3.8/dist-packages/matplotlib/axis.py:1382\u001b[0m, in \u001b[0;36mAxis.get_major_ticks\u001b[0;34m(self, numticks)\u001b[0m\n\u001b[1;32m   1378\u001b[0m     numticks \u001b[38;5;241m=\u001b[39m \u001b[38;5;28mlen\u001b[39m(\u001b[38;5;28mself\u001b[39m\u001b[38;5;241m.\u001b[39mget_majorticklocs())\n\u001b[1;32m   1380\u001b[0m \u001b[38;5;28;01mwhile\u001b[39;00m \u001b[38;5;28mlen\u001b[39m(\u001b[38;5;28mself\u001b[39m\u001b[38;5;241m.\u001b[39mmajorTicks) \u001b[38;5;241m<\u001b[39m numticks:\n\u001b[1;32m   1381\u001b[0m     \u001b[38;5;66;03m# Update the new tick label properties from the old.\u001b[39;00m\n\u001b[0;32m-> 1382\u001b[0m     tick \u001b[38;5;241m=\u001b[39m \u001b[38;5;28;43mself\u001b[39;49m\u001b[38;5;241;43m.\u001b[39;49m\u001b[43m_get_tick\u001b[49m\u001b[43m(\u001b[49m\u001b[43mmajor\u001b[49m\u001b[38;5;241;43m=\u001b[39;49m\u001b[38;5;28;43;01mTrue\u001b[39;49;00m\u001b[43m)\u001b[49m\n\u001b[1;32m   1383\u001b[0m     \u001b[38;5;28mself\u001b[39m\u001b[38;5;241m.\u001b[39mmajorTicks\u001b[38;5;241m.\u001b[39mappend(tick)\n\u001b[1;32m   1384\u001b[0m     tick\u001b[38;5;241m.\u001b[39mgridline\u001b[38;5;241m.\u001b[39mset_visible(\u001b[38;5;28mself\u001b[39m\u001b[38;5;241m.\u001b[39m_gridOnMajor)\n",
      "File \u001b[0;32m/usr/local/lib/python3.8/dist-packages/matplotlib/axis.py:2013\u001b[0m, in \u001b[0;36mXAxis._get_tick\u001b[0;34m(self, major)\u001b[0m\n\u001b[1;32m   2011\u001b[0m \u001b[38;5;28;01melse\u001b[39;00m:\n\u001b[1;32m   2012\u001b[0m     tick_kw \u001b[38;5;241m=\u001b[39m \u001b[38;5;28mself\u001b[39m\u001b[38;5;241m.\u001b[39m_minor_tick_kw\n\u001b[0;32m-> 2013\u001b[0m \u001b[38;5;28;01mreturn\u001b[39;00m \u001b[43mXTick\u001b[49m\u001b[43m(\u001b[49m\u001b[38;5;28;43mself\u001b[39;49m\u001b[38;5;241;43m.\u001b[39;49m\u001b[43maxes\u001b[49m\u001b[43m,\u001b[49m\u001b[43m \u001b[49m\u001b[38;5;241;43m0\u001b[39;49m\u001b[43m,\u001b[49m\u001b[43m \u001b[49m\u001b[43mmajor\u001b[49m\u001b[38;5;241;43m=\u001b[39;49m\u001b[43mmajor\u001b[49m\u001b[43m,\u001b[49m\u001b[43m \u001b[49m\u001b[38;5;241;43m*\u001b[39;49m\u001b[38;5;241;43m*\u001b[39;49m\u001b[43mtick_kw\u001b[49m\u001b[43m)\u001b[49m\n",
      "File \u001b[0;32m/usr/local/lib/python3.8/dist-packages/matplotlib/axis.py:417\u001b[0m, in \u001b[0;36mXTick.__init__\u001b[0;34m(self, *args, **kwargs)\u001b[0m\n\u001b[1;32m    416\u001b[0m \u001b[38;5;28;01mdef\u001b[39;00m \u001b[38;5;21m__init__\u001b[39m(\u001b[38;5;28mself\u001b[39m, \u001b[38;5;241m*\u001b[39margs, \u001b[38;5;241m*\u001b[39m\u001b[38;5;241m*\u001b[39mkwargs):\n\u001b[0;32m--> 417\u001b[0m     \u001b[38;5;28;43msuper\u001b[39;49m\u001b[43m(\u001b[49m\u001b[43m)\u001b[49m\u001b[38;5;241;43m.\u001b[39;49m\u001b[38;5;21;43m__init__\u001b[39;49m\u001b[43m(\u001b[49m\u001b[38;5;241;43m*\u001b[39;49m\u001b[43margs\u001b[49m\u001b[43m,\u001b[49m\u001b[43m \u001b[49m\u001b[38;5;241;43m*\u001b[39;49m\u001b[38;5;241;43m*\u001b[39;49m\u001b[43mkwargs\u001b[49m\u001b[43m)\u001b[49m\n\u001b[1;32m    418\u001b[0m     \u001b[38;5;66;03m# x in data coords, y in axes coords\u001b[39;00m\n\u001b[1;32m    419\u001b[0m     \u001b[38;5;28mself\u001b[39m\u001b[38;5;241m.\u001b[39mtick1line\u001b[38;5;241m.\u001b[39mset(\n\u001b[1;32m    420\u001b[0m         xdata\u001b[38;5;241m=\u001b[39m[\u001b[38;5;241m0\u001b[39m], ydata\u001b[38;5;241m=\u001b[39m[\u001b[38;5;241m0\u001b[39m],\n\u001b[1;32m    421\u001b[0m         transform\u001b[38;5;241m=\u001b[39m\u001b[38;5;28mself\u001b[39m\u001b[38;5;241m.\u001b[39maxes\u001b[38;5;241m.\u001b[39mget_xaxis_transform(which\u001b[38;5;241m=\u001b[39m\u001b[38;5;124m\"\u001b[39m\u001b[38;5;124mtick1\u001b[39m\u001b[38;5;124m\"\u001b[39m),\n\u001b[1;32m    422\u001b[0m         marker\u001b[38;5;241m=\u001b[39m\u001b[38;5;28mself\u001b[39m\u001b[38;5;241m.\u001b[39m_tickmarkers[\u001b[38;5;241m0\u001b[39m],\n\u001b[1;32m    423\u001b[0m     )\n",
      "File \u001b[0;32m/usr/local/lib/python3.8/dist-packages/matplotlib/cbook/deprecation.py:411\u001b[0m, in \u001b[0;36m_delete_parameter.<locals>.wrapper\u001b[0;34m(*inner_args, **inner_kwargs)\u001b[0m\n\u001b[1;32m    401\u001b[0m     deprecation_addendum \u001b[38;5;241m=\u001b[39m (\n\u001b[1;32m    402\u001b[0m         \u001b[38;5;124mf\u001b[39m\u001b[38;5;124m\"\u001b[39m\u001b[38;5;124mIf any parameter follows \u001b[39m\u001b[38;5;132;01m{\u001b[39;00mname\u001b[38;5;132;01m!r}\u001b[39;00m\u001b[38;5;124m, they should be passed as \u001b[39m\u001b[38;5;124m\"\u001b[39m\n\u001b[1;32m    403\u001b[0m         \u001b[38;5;124mf\u001b[39m\u001b[38;5;124m\"\u001b[39m\u001b[38;5;124mkeyword, not positionally.\u001b[39m\u001b[38;5;124m\"\u001b[39m)\n\u001b[1;32m    404\u001b[0m     warn_deprecated(\n\u001b[1;32m    405\u001b[0m         since,\n\u001b[1;32m    406\u001b[0m         name\u001b[38;5;241m=\u001b[39m\u001b[38;5;28mrepr\u001b[39m(name),\n\u001b[0;32m   (...)\u001b[0m\n\u001b[1;32m    409\u001b[0m                  \u001b[38;5;28;01melse\u001b[39;00m deprecation_addendum,\n\u001b[1;32m    410\u001b[0m         \u001b[38;5;241m*\u001b[39m\u001b[38;5;241m*\u001b[39mkwargs)\n\u001b[0;32m--> 411\u001b[0m \u001b[38;5;28;01mreturn\u001b[39;00m \u001b[43mfunc\u001b[49m\u001b[43m(\u001b[49m\u001b[38;5;241;43m*\u001b[39;49m\u001b[43minner_args\u001b[49m\u001b[43m,\u001b[49m\u001b[43m \u001b[49m\u001b[38;5;241;43m*\u001b[39;49m\u001b[38;5;241;43m*\u001b[39;49m\u001b[43minner_kwargs\u001b[49m\u001b[43m)\u001b[49m\n",
      "File \u001b[0;32m/usr/local/lib/python3.8/dist-packages/matplotlib/axis.py:159\u001b[0m, in \u001b[0;36mTick.__init__\u001b[0;34m(self, axes, loc, label, size, width, color, tickdir, pad, labelsize, labelcolor, zorder, gridOn, tick1On, tick2On, label1On, label2On, major, labelrotation, grid_color, grid_linestyle, grid_linewidth, grid_alpha, **kw)\u001b[0m\n\u001b[1;32m    149\u001b[0m \u001b[38;5;28mself\u001b[39m\u001b[38;5;241m.\u001b[39mtick1line \u001b[38;5;241m=\u001b[39m mlines\u001b[38;5;241m.\u001b[39mLine2D(\n\u001b[1;32m    150\u001b[0m     [], [],\n\u001b[1;32m    151\u001b[0m     color\u001b[38;5;241m=\u001b[39mcolor, linestyle\u001b[38;5;241m=\u001b[39m\u001b[38;5;124m\"\u001b[39m\u001b[38;5;124mnone\u001b[39m\u001b[38;5;124m\"\u001b[39m, zorder\u001b[38;5;241m=\u001b[39mzorder, visible\u001b[38;5;241m=\u001b[39mtick1On,\n\u001b[1;32m    152\u001b[0m     markeredgecolor\u001b[38;5;241m=\u001b[39mcolor, markersize\u001b[38;5;241m=\u001b[39msize, markeredgewidth\u001b[38;5;241m=\u001b[39mwidth,\n\u001b[1;32m    153\u001b[0m )\n\u001b[1;32m    154\u001b[0m \u001b[38;5;28mself\u001b[39m\u001b[38;5;241m.\u001b[39mtick2line \u001b[38;5;241m=\u001b[39m mlines\u001b[38;5;241m.\u001b[39mLine2D(\n\u001b[1;32m    155\u001b[0m     [], [],\n\u001b[1;32m    156\u001b[0m     color\u001b[38;5;241m=\u001b[39mcolor, linestyle\u001b[38;5;241m=\u001b[39m\u001b[38;5;124m\"\u001b[39m\u001b[38;5;124mnone\u001b[39m\u001b[38;5;124m\"\u001b[39m, zorder\u001b[38;5;241m=\u001b[39mzorder, visible\u001b[38;5;241m=\u001b[39mtick2On,\n\u001b[1;32m    157\u001b[0m     markeredgecolor\u001b[38;5;241m=\u001b[39mcolor, markersize\u001b[38;5;241m=\u001b[39msize, markeredgewidth\u001b[38;5;241m=\u001b[39mwidth,\n\u001b[1;32m    158\u001b[0m )\n\u001b[0;32m--> 159\u001b[0m \u001b[38;5;28mself\u001b[39m\u001b[38;5;241m.\u001b[39mgridline \u001b[38;5;241m=\u001b[39m mlines\u001b[38;5;241m.\u001b[39mLine2D(\n\u001b[1;32m    160\u001b[0m     [], [],\n\u001b[1;32m    161\u001b[0m     color\u001b[38;5;241m=\u001b[39mgrid_color, alpha\u001b[38;5;241m=\u001b[39mgrid_alpha, visible\u001b[38;5;241m=\u001b[39mgridOn,\n\u001b[1;32m    162\u001b[0m     linestyle\u001b[38;5;241m=\u001b[39mgrid_linestyle, linewidth\u001b[38;5;241m=\u001b[39mgrid_linewidth, marker\u001b[38;5;241m=\u001b[39m\u001b[38;5;124m\"\u001b[39m\u001b[38;5;124m\"\u001b[39m,\n\u001b[1;32m    163\u001b[0m     \u001b[38;5;241m*\u001b[39m\u001b[38;5;241m*\u001b[39mgrid_kw,\n\u001b[1;32m    164\u001b[0m )\n\u001b[1;32m    165\u001b[0m \u001b[38;5;28mself\u001b[39m\u001b[38;5;241m.\u001b[39mgridline\u001b[38;5;241m.\u001b[39mget_path()\u001b[38;5;241m.\u001b[39m_interpolation_steps \u001b[38;5;241m=\u001b[39m \\\n\u001b[1;32m    166\u001b[0m     GRIDLINE_INTERPOLATION_STEPS\n\u001b[1;32m    167\u001b[0m \u001b[38;5;28mself\u001b[39m\u001b[38;5;241m.\u001b[39mlabel1 \u001b[38;5;241m=\u001b[39m mtext\u001b[38;5;241m.\u001b[39mText(\n\u001b[1;32m    168\u001b[0m     np\u001b[38;5;241m.\u001b[39mnan, np\u001b[38;5;241m.\u001b[39mnan,\n\u001b[1;32m    169\u001b[0m     fontsize\u001b[38;5;241m=\u001b[39mlabelsize, color\u001b[38;5;241m=\u001b[39mlabelcolor, visible\u001b[38;5;241m=\u001b[39mlabel1On)\n",
      "\u001b[0;31mTypeError\u001b[0m: type object got multiple values for keyword argument 'visible'"
     ]
    },
    {
     "ename": "TypeError",
     "evalue": "type object got multiple values for keyword argument 'visible'",
     "output_type": "error",
     "traceback": [
      "\u001b[0;31m---------------------------------------------------------------------------\u001b[0m",
      "\u001b[0;31mTypeError\u001b[0m                                 Traceback (most recent call last)",
      "File \u001b[0;32m/usr/local/lib/python3.8/dist-packages/matplotlib_inline/backend_inline.py:43\u001b[0m, in \u001b[0;36mshow\u001b[0;34m(close, block)\u001b[0m\n\u001b[1;32m     39\u001b[0m \u001b[38;5;28;01mtry\u001b[39;00m:\n\u001b[1;32m     40\u001b[0m     \u001b[38;5;28;01mfor\u001b[39;00m figure_manager \u001b[38;5;129;01min\u001b[39;00m Gcf\u001b[38;5;241m.\u001b[39mget_all_fig_managers():\n\u001b[1;32m     41\u001b[0m         display(\n\u001b[1;32m     42\u001b[0m             figure_manager\u001b[38;5;241m.\u001b[39mcanvas\u001b[38;5;241m.\u001b[39mfigure,\n\u001b[0;32m---> 43\u001b[0m             metadata\u001b[38;5;241m=\u001b[39m\u001b[43m_fetch_figure_metadata\u001b[49m\u001b[43m(\u001b[49m\u001b[43mfigure_manager\u001b[49m\u001b[38;5;241;43m.\u001b[39;49m\u001b[43mcanvas\u001b[49m\u001b[38;5;241;43m.\u001b[39;49m\u001b[43mfigure\u001b[49m\u001b[43m)\u001b[49m\n\u001b[1;32m     44\u001b[0m         )\n\u001b[1;32m     45\u001b[0m \u001b[38;5;28;01mfinally\u001b[39;00m:\n\u001b[1;32m     46\u001b[0m     show\u001b[38;5;241m.\u001b[39m_to_draw \u001b[38;5;241m=\u001b[39m []\n",
      "File \u001b[0;32m/usr/local/lib/python3.8/dist-packages/matplotlib_inline/backend_inline.py:231\u001b[0m, in \u001b[0;36m_fetch_figure_metadata\u001b[0;34m(fig)\u001b[0m\n\u001b[1;32m    228\u001b[0m \u001b[38;5;66;03m# determine if a background is needed for legibility\u001b[39;00m\n\u001b[1;32m    229\u001b[0m \u001b[38;5;28;01mif\u001b[39;00m _is_transparent(fig\u001b[38;5;241m.\u001b[39mget_facecolor()):\n\u001b[1;32m    230\u001b[0m     \u001b[38;5;66;03m# the background is transparent\u001b[39;00m\n\u001b[0;32m--> 231\u001b[0m     ticksLight \u001b[38;5;241m=\u001b[39m _is_light([label\u001b[38;5;241m.\u001b[39mget_color()\n\u001b[1;32m    232\u001b[0m                             \u001b[38;5;28;01mfor\u001b[39;00m axes \u001b[38;5;129;01min\u001b[39;00m fig\u001b[38;5;241m.\u001b[39maxes\n\u001b[1;32m    233\u001b[0m                             \u001b[38;5;28;01mfor\u001b[39;00m axis \u001b[38;5;129;01min\u001b[39;00m (axes\u001b[38;5;241m.\u001b[39mxaxis, axes\u001b[38;5;241m.\u001b[39myaxis)\n\u001b[1;32m    234\u001b[0m                             \u001b[38;5;28;01mfor\u001b[39;00m label \u001b[38;5;129;01min\u001b[39;00m axis\u001b[38;5;241m.\u001b[39mget_ticklabels()])\n\u001b[1;32m    235\u001b[0m     \u001b[38;5;28;01mif\u001b[39;00m ticksLight\u001b[38;5;241m.\u001b[39msize \u001b[38;5;129;01mand\u001b[39;00m (ticksLight \u001b[38;5;241m==\u001b[39m ticksLight[\u001b[38;5;241m0\u001b[39m])\u001b[38;5;241m.\u001b[39mall():\n\u001b[1;32m    236\u001b[0m         \u001b[38;5;66;03m# there are one or more tick labels, all with the same lightness\u001b[39;00m\n\u001b[1;32m    237\u001b[0m         \u001b[38;5;28;01mreturn\u001b[39;00m {\u001b[38;5;124m'\u001b[39m\u001b[38;5;124mneeds_background\u001b[39m\u001b[38;5;124m'\u001b[39m: \u001b[38;5;124m'\u001b[39m\u001b[38;5;124mdark\u001b[39m\u001b[38;5;124m'\u001b[39m \u001b[38;5;28;01mif\u001b[39;00m ticksLight[\u001b[38;5;241m0\u001b[39m] \u001b[38;5;28;01melse\u001b[39;00m \u001b[38;5;124m'\u001b[39m\u001b[38;5;124mlight\u001b[39m\u001b[38;5;124m'\u001b[39m}\n",
      "File \u001b[0;32m/usr/local/lib/python3.8/dist-packages/matplotlib_inline/backend_inline.py:234\u001b[0m, in \u001b[0;36m<listcomp>\u001b[0;34m(.0)\u001b[0m\n\u001b[1;32m    228\u001b[0m \u001b[38;5;66;03m# determine if a background is needed for legibility\u001b[39;00m\n\u001b[1;32m    229\u001b[0m \u001b[38;5;28;01mif\u001b[39;00m _is_transparent(fig\u001b[38;5;241m.\u001b[39mget_facecolor()):\n\u001b[1;32m    230\u001b[0m     \u001b[38;5;66;03m# the background is transparent\u001b[39;00m\n\u001b[1;32m    231\u001b[0m     ticksLight \u001b[38;5;241m=\u001b[39m _is_light([label\u001b[38;5;241m.\u001b[39mget_color()\n\u001b[1;32m    232\u001b[0m                             \u001b[38;5;28;01mfor\u001b[39;00m axes \u001b[38;5;129;01min\u001b[39;00m fig\u001b[38;5;241m.\u001b[39maxes\n\u001b[1;32m    233\u001b[0m                             \u001b[38;5;28;01mfor\u001b[39;00m axis \u001b[38;5;129;01min\u001b[39;00m (axes\u001b[38;5;241m.\u001b[39mxaxis, axes\u001b[38;5;241m.\u001b[39myaxis)\n\u001b[0;32m--> 234\u001b[0m                             \u001b[38;5;28;01mfor\u001b[39;00m label \u001b[38;5;129;01min\u001b[39;00m \u001b[43maxis\u001b[49m\u001b[38;5;241;43m.\u001b[39;49m\u001b[43mget_ticklabels\u001b[49m\u001b[43m(\u001b[49m\u001b[43m)\u001b[49m])\n\u001b[1;32m    235\u001b[0m     \u001b[38;5;28;01mif\u001b[39;00m ticksLight\u001b[38;5;241m.\u001b[39msize \u001b[38;5;129;01mand\u001b[39;00m (ticksLight \u001b[38;5;241m==\u001b[39m ticksLight[\u001b[38;5;241m0\u001b[39m])\u001b[38;5;241m.\u001b[39mall():\n\u001b[1;32m    236\u001b[0m         \u001b[38;5;66;03m# there are one or more tick labels, all with the same lightness\u001b[39;00m\n\u001b[1;32m    237\u001b[0m         \u001b[38;5;28;01mreturn\u001b[39;00m {\u001b[38;5;124m'\u001b[39m\u001b[38;5;124mneeds_background\u001b[39m\u001b[38;5;124m'\u001b[39m: \u001b[38;5;124m'\u001b[39m\u001b[38;5;124mdark\u001b[39m\u001b[38;5;124m'\u001b[39m \u001b[38;5;28;01mif\u001b[39;00m ticksLight[\u001b[38;5;241m0\u001b[39m] \u001b[38;5;28;01melse\u001b[39;00m \u001b[38;5;124m'\u001b[39m\u001b[38;5;124mlight\u001b[39m\u001b[38;5;124m'\u001b[39m}\n",
      "File \u001b[0;32m/usr/local/lib/python3.8/dist-packages/matplotlib/axis.py:1255\u001b[0m, in \u001b[0;36mAxis.get_ticklabels\u001b[0;34m(self, minor, which)\u001b[0m\n\u001b[1;32m   1253\u001b[0m \u001b[38;5;28;01mif\u001b[39;00m minor:\n\u001b[1;32m   1254\u001b[0m     \u001b[38;5;28;01mreturn\u001b[39;00m \u001b[38;5;28mself\u001b[39m\u001b[38;5;241m.\u001b[39mget_minorticklabels()\n\u001b[0;32m-> 1255\u001b[0m \u001b[38;5;28;01mreturn\u001b[39;00m \u001b[38;5;28;43mself\u001b[39;49m\u001b[38;5;241;43m.\u001b[39;49m\u001b[43mget_majorticklabels\u001b[49m\u001b[43m(\u001b[49m\u001b[43m)\u001b[49m\n",
      "File \u001b[0;32m/usr/local/lib/python3.8/dist-packages/matplotlib/axis.py:1207\u001b[0m, in \u001b[0;36mAxis.get_majorticklabels\u001b[0;34m(self)\u001b[0m\n\u001b[1;32m   1205\u001b[0m \u001b[38;5;28;01mdef\u001b[39;00m \u001b[38;5;21mget_majorticklabels\u001b[39m(\u001b[38;5;28mself\u001b[39m):\n\u001b[1;32m   1206\u001b[0m \u001b[38;5;250m    \u001b[39m\u001b[38;5;124;03m\"\"\"Return this Axis' major tick labels, as a list of `~.text.Text`.\"\"\"\u001b[39;00m\n\u001b[0;32m-> 1207\u001b[0m     ticks \u001b[38;5;241m=\u001b[39m \u001b[38;5;28;43mself\u001b[39;49m\u001b[38;5;241;43m.\u001b[39;49m\u001b[43mget_major_ticks\u001b[49m\u001b[43m(\u001b[49m\u001b[43m)\u001b[49m\n\u001b[1;32m   1208\u001b[0m     labels1 \u001b[38;5;241m=\u001b[39m [tick\u001b[38;5;241m.\u001b[39mlabel1 \u001b[38;5;28;01mfor\u001b[39;00m tick \u001b[38;5;129;01min\u001b[39;00m ticks \u001b[38;5;28;01mif\u001b[39;00m tick\u001b[38;5;241m.\u001b[39mlabel1\u001b[38;5;241m.\u001b[39mget_visible()]\n\u001b[1;32m   1209\u001b[0m     labels2 \u001b[38;5;241m=\u001b[39m [tick\u001b[38;5;241m.\u001b[39mlabel2 \u001b[38;5;28;01mfor\u001b[39;00m tick \u001b[38;5;129;01min\u001b[39;00m ticks \u001b[38;5;28;01mif\u001b[39;00m tick\u001b[38;5;241m.\u001b[39mlabel2\u001b[38;5;241m.\u001b[39mget_visible()]\n",
      "File \u001b[0;32m/usr/local/lib/python3.8/dist-packages/matplotlib/axis.py:1382\u001b[0m, in \u001b[0;36mAxis.get_major_ticks\u001b[0;34m(self, numticks)\u001b[0m\n\u001b[1;32m   1378\u001b[0m     numticks \u001b[38;5;241m=\u001b[39m \u001b[38;5;28mlen\u001b[39m(\u001b[38;5;28mself\u001b[39m\u001b[38;5;241m.\u001b[39mget_majorticklocs())\n\u001b[1;32m   1380\u001b[0m \u001b[38;5;28;01mwhile\u001b[39;00m \u001b[38;5;28mlen\u001b[39m(\u001b[38;5;28mself\u001b[39m\u001b[38;5;241m.\u001b[39mmajorTicks) \u001b[38;5;241m<\u001b[39m numticks:\n\u001b[1;32m   1381\u001b[0m     \u001b[38;5;66;03m# Update the new tick label properties from the old.\u001b[39;00m\n\u001b[0;32m-> 1382\u001b[0m     tick \u001b[38;5;241m=\u001b[39m \u001b[38;5;28;43mself\u001b[39;49m\u001b[38;5;241;43m.\u001b[39;49m\u001b[43m_get_tick\u001b[49m\u001b[43m(\u001b[49m\u001b[43mmajor\u001b[49m\u001b[38;5;241;43m=\u001b[39;49m\u001b[38;5;28;43;01mTrue\u001b[39;49;00m\u001b[43m)\u001b[49m\n\u001b[1;32m   1383\u001b[0m     \u001b[38;5;28mself\u001b[39m\u001b[38;5;241m.\u001b[39mmajorTicks\u001b[38;5;241m.\u001b[39mappend(tick)\n\u001b[1;32m   1384\u001b[0m     tick\u001b[38;5;241m.\u001b[39mgridline\u001b[38;5;241m.\u001b[39mset_visible(\u001b[38;5;28mself\u001b[39m\u001b[38;5;241m.\u001b[39m_gridOnMajor)\n",
      "File \u001b[0;32m/usr/local/lib/python3.8/dist-packages/matplotlib/axis.py:2013\u001b[0m, in \u001b[0;36mXAxis._get_tick\u001b[0;34m(self, major)\u001b[0m\n\u001b[1;32m   2011\u001b[0m \u001b[38;5;28;01melse\u001b[39;00m:\n\u001b[1;32m   2012\u001b[0m     tick_kw \u001b[38;5;241m=\u001b[39m \u001b[38;5;28mself\u001b[39m\u001b[38;5;241m.\u001b[39m_minor_tick_kw\n\u001b[0;32m-> 2013\u001b[0m \u001b[38;5;28;01mreturn\u001b[39;00m \u001b[43mXTick\u001b[49m\u001b[43m(\u001b[49m\u001b[38;5;28;43mself\u001b[39;49m\u001b[38;5;241;43m.\u001b[39;49m\u001b[43maxes\u001b[49m\u001b[43m,\u001b[49m\u001b[43m \u001b[49m\u001b[38;5;241;43m0\u001b[39;49m\u001b[43m,\u001b[49m\u001b[43m \u001b[49m\u001b[43mmajor\u001b[49m\u001b[38;5;241;43m=\u001b[39;49m\u001b[43mmajor\u001b[49m\u001b[43m,\u001b[49m\u001b[43m \u001b[49m\u001b[38;5;241;43m*\u001b[39;49m\u001b[38;5;241;43m*\u001b[39;49m\u001b[43mtick_kw\u001b[49m\u001b[43m)\u001b[49m\n",
      "File \u001b[0;32m/usr/local/lib/python3.8/dist-packages/matplotlib/axis.py:417\u001b[0m, in \u001b[0;36mXTick.__init__\u001b[0;34m(self, *args, **kwargs)\u001b[0m\n\u001b[1;32m    416\u001b[0m \u001b[38;5;28;01mdef\u001b[39;00m \u001b[38;5;21m__init__\u001b[39m(\u001b[38;5;28mself\u001b[39m, \u001b[38;5;241m*\u001b[39margs, \u001b[38;5;241m*\u001b[39m\u001b[38;5;241m*\u001b[39mkwargs):\n\u001b[0;32m--> 417\u001b[0m     \u001b[38;5;28;43msuper\u001b[39;49m\u001b[43m(\u001b[49m\u001b[43m)\u001b[49m\u001b[38;5;241;43m.\u001b[39;49m\u001b[38;5;21;43m__init__\u001b[39;49m\u001b[43m(\u001b[49m\u001b[38;5;241;43m*\u001b[39;49m\u001b[43margs\u001b[49m\u001b[43m,\u001b[49m\u001b[43m \u001b[49m\u001b[38;5;241;43m*\u001b[39;49m\u001b[38;5;241;43m*\u001b[39;49m\u001b[43mkwargs\u001b[49m\u001b[43m)\u001b[49m\n\u001b[1;32m    418\u001b[0m     \u001b[38;5;66;03m# x in data coords, y in axes coords\u001b[39;00m\n\u001b[1;32m    419\u001b[0m     \u001b[38;5;28mself\u001b[39m\u001b[38;5;241m.\u001b[39mtick1line\u001b[38;5;241m.\u001b[39mset(\n\u001b[1;32m    420\u001b[0m         xdata\u001b[38;5;241m=\u001b[39m[\u001b[38;5;241m0\u001b[39m], ydata\u001b[38;5;241m=\u001b[39m[\u001b[38;5;241m0\u001b[39m],\n\u001b[1;32m    421\u001b[0m         transform\u001b[38;5;241m=\u001b[39m\u001b[38;5;28mself\u001b[39m\u001b[38;5;241m.\u001b[39maxes\u001b[38;5;241m.\u001b[39mget_xaxis_transform(which\u001b[38;5;241m=\u001b[39m\u001b[38;5;124m\"\u001b[39m\u001b[38;5;124mtick1\u001b[39m\u001b[38;5;124m\"\u001b[39m),\n\u001b[1;32m    422\u001b[0m         marker\u001b[38;5;241m=\u001b[39m\u001b[38;5;28mself\u001b[39m\u001b[38;5;241m.\u001b[39m_tickmarkers[\u001b[38;5;241m0\u001b[39m],\n\u001b[1;32m    423\u001b[0m     )\n",
      "File \u001b[0;32m/usr/local/lib/python3.8/dist-packages/matplotlib/cbook/deprecation.py:411\u001b[0m, in \u001b[0;36m_delete_parameter.<locals>.wrapper\u001b[0;34m(*inner_args, **inner_kwargs)\u001b[0m\n\u001b[1;32m    401\u001b[0m     deprecation_addendum \u001b[38;5;241m=\u001b[39m (\n\u001b[1;32m    402\u001b[0m         \u001b[38;5;124mf\u001b[39m\u001b[38;5;124m\"\u001b[39m\u001b[38;5;124mIf any parameter follows \u001b[39m\u001b[38;5;132;01m{\u001b[39;00mname\u001b[38;5;132;01m!r}\u001b[39;00m\u001b[38;5;124m, they should be passed as \u001b[39m\u001b[38;5;124m\"\u001b[39m\n\u001b[1;32m    403\u001b[0m         \u001b[38;5;124mf\u001b[39m\u001b[38;5;124m\"\u001b[39m\u001b[38;5;124mkeyword, not positionally.\u001b[39m\u001b[38;5;124m\"\u001b[39m)\n\u001b[1;32m    404\u001b[0m     warn_deprecated(\n\u001b[1;32m    405\u001b[0m         since,\n\u001b[1;32m    406\u001b[0m         name\u001b[38;5;241m=\u001b[39m\u001b[38;5;28mrepr\u001b[39m(name),\n\u001b[0;32m   (...)\u001b[0m\n\u001b[1;32m    409\u001b[0m                  \u001b[38;5;28;01melse\u001b[39;00m deprecation_addendum,\n\u001b[1;32m    410\u001b[0m         \u001b[38;5;241m*\u001b[39m\u001b[38;5;241m*\u001b[39mkwargs)\n\u001b[0;32m--> 411\u001b[0m \u001b[38;5;28;01mreturn\u001b[39;00m \u001b[43mfunc\u001b[49m\u001b[43m(\u001b[49m\u001b[38;5;241;43m*\u001b[39;49m\u001b[43minner_args\u001b[49m\u001b[43m,\u001b[49m\u001b[43m \u001b[49m\u001b[38;5;241;43m*\u001b[39;49m\u001b[38;5;241;43m*\u001b[39;49m\u001b[43minner_kwargs\u001b[49m\u001b[43m)\u001b[49m\n",
      "File \u001b[0;32m/usr/local/lib/python3.8/dist-packages/matplotlib/axis.py:159\u001b[0m, in \u001b[0;36mTick.__init__\u001b[0;34m(self, axes, loc, label, size, width, color, tickdir, pad, labelsize, labelcolor, zorder, gridOn, tick1On, tick2On, label1On, label2On, major, labelrotation, grid_color, grid_linestyle, grid_linewidth, grid_alpha, **kw)\u001b[0m\n\u001b[1;32m    149\u001b[0m \u001b[38;5;28mself\u001b[39m\u001b[38;5;241m.\u001b[39mtick1line \u001b[38;5;241m=\u001b[39m mlines\u001b[38;5;241m.\u001b[39mLine2D(\n\u001b[1;32m    150\u001b[0m     [], [],\n\u001b[1;32m    151\u001b[0m     color\u001b[38;5;241m=\u001b[39mcolor, linestyle\u001b[38;5;241m=\u001b[39m\u001b[38;5;124m\"\u001b[39m\u001b[38;5;124mnone\u001b[39m\u001b[38;5;124m\"\u001b[39m, zorder\u001b[38;5;241m=\u001b[39mzorder, visible\u001b[38;5;241m=\u001b[39mtick1On,\n\u001b[1;32m    152\u001b[0m     markeredgecolor\u001b[38;5;241m=\u001b[39mcolor, markersize\u001b[38;5;241m=\u001b[39msize, markeredgewidth\u001b[38;5;241m=\u001b[39mwidth,\n\u001b[1;32m    153\u001b[0m )\n\u001b[1;32m    154\u001b[0m \u001b[38;5;28mself\u001b[39m\u001b[38;5;241m.\u001b[39mtick2line \u001b[38;5;241m=\u001b[39m mlines\u001b[38;5;241m.\u001b[39mLine2D(\n\u001b[1;32m    155\u001b[0m     [], [],\n\u001b[1;32m    156\u001b[0m     color\u001b[38;5;241m=\u001b[39mcolor, linestyle\u001b[38;5;241m=\u001b[39m\u001b[38;5;124m\"\u001b[39m\u001b[38;5;124mnone\u001b[39m\u001b[38;5;124m\"\u001b[39m, zorder\u001b[38;5;241m=\u001b[39mzorder, visible\u001b[38;5;241m=\u001b[39mtick2On,\n\u001b[1;32m    157\u001b[0m     markeredgecolor\u001b[38;5;241m=\u001b[39mcolor, markersize\u001b[38;5;241m=\u001b[39msize, markeredgewidth\u001b[38;5;241m=\u001b[39mwidth,\n\u001b[1;32m    158\u001b[0m )\n\u001b[0;32m--> 159\u001b[0m \u001b[38;5;28mself\u001b[39m\u001b[38;5;241m.\u001b[39mgridline \u001b[38;5;241m=\u001b[39m mlines\u001b[38;5;241m.\u001b[39mLine2D(\n\u001b[1;32m    160\u001b[0m     [], [],\n\u001b[1;32m    161\u001b[0m     color\u001b[38;5;241m=\u001b[39mgrid_color, alpha\u001b[38;5;241m=\u001b[39mgrid_alpha, visible\u001b[38;5;241m=\u001b[39mgridOn,\n\u001b[1;32m    162\u001b[0m     linestyle\u001b[38;5;241m=\u001b[39mgrid_linestyle, linewidth\u001b[38;5;241m=\u001b[39mgrid_linewidth, marker\u001b[38;5;241m=\u001b[39m\u001b[38;5;124m\"\u001b[39m\u001b[38;5;124m\"\u001b[39m,\n\u001b[1;32m    163\u001b[0m     \u001b[38;5;241m*\u001b[39m\u001b[38;5;241m*\u001b[39mgrid_kw,\n\u001b[1;32m    164\u001b[0m )\n\u001b[1;32m    165\u001b[0m \u001b[38;5;28mself\u001b[39m\u001b[38;5;241m.\u001b[39mgridline\u001b[38;5;241m.\u001b[39mget_path()\u001b[38;5;241m.\u001b[39m_interpolation_steps \u001b[38;5;241m=\u001b[39m \\\n\u001b[1;32m    166\u001b[0m     GRIDLINE_INTERPOLATION_STEPS\n\u001b[1;32m    167\u001b[0m \u001b[38;5;28mself\u001b[39m\u001b[38;5;241m.\u001b[39mlabel1 \u001b[38;5;241m=\u001b[39m mtext\u001b[38;5;241m.\u001b[39mText(\n\u001b[1;32m    168\u001b[0m     np\u001b[38;5;241m.\u001b[39mnan, np\u001b[38;5;241m.\u001b[39mnan,\n\u001b[1;32m    169\u001b[0m     fontsize\u001b[38;5;241m=\u001b[39mlabelsize, color\u001b[38;5;241m=\u001b[39mlabelcolor, visible\u001b[38;5;241m=\u001b[39mlabel1On)\n",
      "\u001b[0;31mTypeError\u001b[0m: type object got multiple values for keyword argument 'visible'"
     ]
    }
   ],
   "source": [
    "msno.matrix(data)"
   ]
  },
  {
   "cell_type": "code",
   "execution_count": 6,
   "metadata": {
    "colab": {
     "base_uri": "https://localhost:8080/",
     "height": 1000
    },
    "id": "kSvzCwyawG60",
    "outputId": "4c47b90a-cad3-4f3d-f98e-0a43fdbe9df5"
   },
   "outputs": [
    {
     "data": {
      "text/plain": [
       "STRONG-ARM (HANDS, FIST, FEET OR BODILY FORCE)    174296\n",
       "UNKNOWN WEAPON/OTHER WEAPON                        35799\n",
       "VERBAL THREAT                                      23786\n",
       "HAND GUN                                           20076\n",
       "SEMI-AUTOMATIC PISTOL                               7240\n",
       "KNIFE WITH BLADE 6INCHES OR LESS                    6821\n",
       "UNKNOWN FIREARM                                     6564\n",
       "OTHER KNIFE                                         5863\n",
       "MACE/PEPPER SPRAY                                   3728\n",
       "VEHICLE                                             3238\n",
       "ROCK/THROWN OBJECT                                  2731\n",
       "PIPE/METAL PIPE                                     2462\n",
       "BOTTLE                                              2412\n",
       "FOLDING KNIFE                                       2258\n",
       "STICK                                               2243\n",
       "CLUB/BAT                                            2084\n",
       "KITCHEN KNIFE                                       1918\n",
       "AIR PISTOL/REVOLVER/RIFLE/BB GUN                    1856\n",
       "KNIFE WITH BLADE OVER 6 INCHES IN LENGTH            1695\n",
       "BLUNT INSTRUMENT                                    1384\n",
       "HAMMER                                              1352\n",
       "SIMULATED GUN                                       1246\n",
       "REVOLVER                                            1179\n",
       "MACHETE                                             1143\n",
       "OTHER FIREARM                                        943\n",
       "OTHER CUTTING INSTRUMENT                             929\n",
       "PHYSICAL PRESENCE                                    908\n",
       "UNKNOWN TYPE CUTTING INSTRUMENT                      878\n",
       "SCREWDRIVER                                          782\n",
       "CONCRETE BLOCK/BRICK                                 705\n",
       "Name: Weapon, dtype: int64"
      ]
     },
     "execution_count": 6,
     "metadata": {},
     "output_type": "execute_result"
    }
   ],
   "source": [
    "data.Weapon.value_counts().head(30).T"
   ]
  },
  {
   "cell_type": "code",
   "execution_count": 7,
   "metadata": {
    "colab": {
     "base_uri": "https://localhost:8080/",
     "height": 429
    },
    "id": "zVm8VFDUxz42",
    "outputId": "2b173520-f68f-4255-cccc-475b6fc547de"
   },
   "outputs": [
    {
     "data": {
      "text/plain": [
       "H    291256\n",
       "W    195759\n",
       "B    133656\n",
       "X    101620\n",
       "O     76222\n",
       "A     20955\n",
       "K      5581\n",
       "F      4467\n",
       "C      4161\n",
       "J      1456\n",
       "Name: Victim_descent, dtype: int64"
      ]
     },
     "execution_count": 7,
     "metadata": {},
     "output_type": "execute_result"
    }
   ],
   "source": [
    "# Kolom \"Victim Descedent\"\n",
    "data.Victim_descent.value_counts().head(10)"
   ]
  },
  {
   "cell_type": "markdown",
   "metadata": {
    "id": "sKiwlugphajf"
   },
   "source": [
    "<b> 2) Analisis kejahatan apa saja yang tidak terdeteksi \"Weapons\" nya </b>"
   ]
  },
  {
   "cell_type": "code",
   "execution_count": 8,
   "metadata": {
    "id": "jJlsZ0SAf9X5"
   },
   "outputs": [],
   "source": [
    "# Seleksi data untuk kolom \"Weapon\" Null\n",
    "df_miss_weapon = data[data['Weapon'].isnull()]"
   ]
  },
  {
   "cell_type": "code",
   "execution_count": 9,
   "metadata": {
    "colab": {
     "base_uri": "https://localhost:8080/",
     "height": 721
    },
    "id": "sLT4F--Iv90L",
    "outputId": "000696f9-dab4-4937-f7d6-f654317338df"
   },
   "outputs": [
    {
     "data": {
      "text/html": [
       "<div>\n",
       "<style scoped>\n",
       "    .dataframe tbody tr th:only-of-type {\n",
       "        vertical-align: middle;\n",
       "    }\n",
       "\n",
       "    .dataframe tbody tr th {\n",
       "        vertical-align: top;\n",
       "    }\n",
       "\n",
       "    .dataframe thead th {\n",
       "        text-align: right;\n",
       "    }\n",
       "</style>\n",
       "<table border=\"1\" class=\"dataframe\">\n",
       "  <thead>\n",
       "    <tr style=\"text-align: right;\">\n",
       "      <th></th>\n",
       "      <th>DR_NO</th>\n",
       "      <th>Date_Reported</th>\n",
       "      <th>Date_occured</th>\n",
       "      <th>Time_occured</th>\n",
       "      <th>Area</th>\n",
       "      <th>Crime_Code</th>\n",
       "      <th>Victim_age</th>\n",
       "      <th>Victim_sex</th>\n",
       "      <th>Victim_descent</th>\n",
       "      <th>Premis</th>\n",
       "      <th>Weapon</th>\n",
       "      <th>Status</th>\n",
       "      <th>LOCATION</th>\n",
       "      <th>LAT</th>\n",
       "      <th>LON</th>\n",
       "    </tr>\n",
       "  </thead>\n",
       "  <tbody>\n",
       "    <tr>\n",
       "      <th>0</th>\n",
       "      <td>190326475</td>\n",
       "      <td>03/01/20 0:00</td>\n",
       "      <td>03/01/20 0:00</td>\n",
       "      <td>2130</td>\n",
       "      <td>Wilshire</td>\n",
       "      <td>VEHICLE - STOLEN</td>\n",
       "      <td>0</td>\n",
       "      <td>M</td>\n",
       "      <td>O</td>\n",
       "      <td>STREET</td>\n",
       "      <td>NaN</td>\n",
       "      <td>Adult Arrest</td>\n",
       "      <td>1900 S  LONGWOOD                     AV</td>\n",
       "      <td>34.0375</td>\n",
       "      <td>-118.3506</td>\n",
       "    </tr>\n",
       "    <tr>\n",
       "      <th>1</th>\n",
       "      <td>200106753</td>\n",
       "      <td>02/09/20 0:00</td>\n",
       "      <td>02/08/20 0:00</td>\n",
       "      <td>1800</td>\n",
       "      <td>Central</td>\n",
       "      <td>BURGLARY FROM VEHICLE</td>\n",
       "      <td>47</td>\n",
       "      <td>M</td>\n",
       "      <td>O</td>\n",
       "      <td>BUS STOP/LAYOVER (ALSO QUERY 124)</td>\n",
       "      <td>NaN</td>\n",
       "      <td>Invest Cont</td>\n",
       "      <td>1000 S  FLOWER                       ST</td>\n",
       "      <td>34.0444</td>\n",
       "      <td>-118.2628</td>\n",
       "    </tr>\n",
       "    <tr>\n",
       "      <th>2</th>\n",
       "      <td>200320258</td>\n",
       "      <td>11/11/20 0:00</td>\n",
       "      <td>11/04/20 0:00</td>\n",
       "      <td>1700</td>\n",
       "      <td>Southwest</td>\n",
       "      <td>BIKE - STOLEN</td>\n",
       "      <td>19</td>\n",
       "      <td>X</td>\n",
       "      <td>X</td>\n",
       "      <td>MULTI-UNIT DWELLING (APARTMENT, DUPLEX, ETC)</td>\n",
       "      <td>NaN</td>\n",
       "      <td>Invest Cont</td>\n",
       "      <td>1400 W  37TH                         ST</td>\n",
       "      <td>34.0210</td>\n",
       "      <td>-118.3002</td>\n",
       "    </tr>\n",
       "    <tr>\n",
       "      <th>3</th>\n",
       "      <td>200907217</td>\n",
       "      <td>05/10/23 0:00</td>\n",
       "      <td>03/10/20 0:00</td>\n",
       "      <td>2037</td>\n",
       "      <td>Van Nuys</td>\n",
       "      <td>SHOPLIFTING-GRAND THEFT ($950.01 &amp; OVER)</td>\n",
       "      <td>19</td>\n",
       "      <td>M</td>\n",
       "      <td>O</td>\n",
       "      <td>CLOTHING STORE</td>\n",
       "      <td>NaN</td>\n",
       "      <td>Invest Cont</td>\n",
       "      <td>14000    RIVERSIDE                    DR</td>\n",
       "      <td>34.1576</td>\n",
       "      <td>-118.4387</td>\n",
       "    </tr>\n",
       "    <tr>\n",
       "      <th>4</th>\n",
       "      <td>220614831</td>\n",
       "      <td>08/18/2022 12:00:00 AM</td>\n",
       "      <td>08/17/2020 12:00:00 AM</td>\n",
       "      <td>1200</td>\n",
       "      <td>Hollywood</td>\n",
       "      <td>THEFT OF IDENTITY</td>\n",
       "      <td>28</td>\n",
       "      <td>M</td>\n",
       "      <td>H</td>\n",
       "      <td>SIDEWALK</td>\n",
       "      <td>NaN</td>\n",
       "      <td>Invest Cont</td>\n",
       "      <td>1900    TRANSIENT</td>\n",
       "      <td>34.0944</td>\n",
       "      <td>-118.3277</td>\n",
       "    </tr>\n",
       "    <tr>\n",
       "      <th>...</th>\n",
       "      <td>...</td>\n",
       "      <td>...</td>\n",
       "      <td>...</td>\n",
       "      <td>...</td>\n",
       "      <td>...</td>\n",
       "      <td>...</td>\n",
       "      <td>...</td>\n",
       "      <td>...</td>\n",
       "      <td>...</td>\n",
       "      <td>...</td>\n",
       "      <td>...</td>\n",
       "      <td>...</td>\n",
       "      <td>...</td>\n",
       "      <td>...</td>\n",
       "      <td>...</td>\n",
       "    </tr>\n",
       "    <tr>\n",
       "      <th>974469</th>\n",
       "      <td>242106032</td>\n",
       "      <td>02/20/2024 12:00:00 AM</td>\n",
       "      <td>02/17/2024 12:00:00 AM</td>\n",
       "      <td>2330</td>\n",
       "      <td>Topanga</td>\n",
       "      <td>THEFT FROM MOTOR VEHICLE - PETTY ($950 &amp; UNDER)</td>\n",
       "      <td>44</td>\n",
       "      <td>F</td>\n",
       "      <td>O</td>\n",
       "      <td>DRIVEWAY</td>\n",
       "      <td>NaN</td>\n",
       "      <td>Invest Cont</td>\n",
       "      <td>22700    NAPA                         ST</td>\n",
       "      <td>34.2260</td>\n",
       "      <td>-118.6214</td>\n",
       "    </tr>\n",
       "    <tr>\n",
       "      <th>974471</th>\n",
       "      <td>242011172</td>\n",
       "      <td>08/20/2024 12:00:00 AM</td>\n",
       "      <td>08/17/2024 12:00:00 AM</td>\n",
       "      <td>2300</td>\n",
       "      <td>Olympic</td>\n",
       "      <td>THEFT-GRAND ($950.01 &amp; OVER)EXCPT,GUNS,FOWL,LI...</td>\n",
       "      <td>36</td>\n",
       "      <td>F</td>\n",
       "      <td>C</td>\n",
       "      <td>BAR/COCKTAIL/NIGHTCLUB</td>\n",
       "      <td>NaN</td>\n",
       "      <td>Invest Cont</td>\n",
       "      <td>3700    WILSHIRE                     BL</td>\n",
       "      <td>34.0617</td>\n",
       "      <td>-118.3066</td>\n",
       "    </tr>\n",
       "    <tr>\n",
       "      <th>974472</th>\n",
       "      <td>240710284</td>\n",
       "      <td>07/24/2024 12:00:00 AM</td>\n",
       "      <td>07/23/2024 12:00:00 AM</td>\n",
       "      <td>1400</td>\n",
       "      <td>Wilshire</td>\n",
       "      <td>VEHICLE - STOLEN</td>\n",
       "      <td>0</td>\n",
       "      <td>NaN</td>\n",
       "      <td>NaN</td>\n",
       "      <td>STREET</td>\n",
       "      <td>NaN</td>\n",
       "      <td>Invest Cont</td>\n",
       "      <td>4000 W  23RD                         ST</td>\n",
       "      <td>34.0362</td>\n",
       "      <td>-118.3284</td>\n",
       "    </tr>\n",
       "    <tr>\n",
       "      <th>974474</th>\n",
       "      <td>241711348</td>\n",
       "      <td>07/19/2024 12:00:00 AM</td>\n",
       "      <td>07/19/2024 12:00:00 AM</td>\n",
       "      <td>757</td>\n",
       "      <td>Devonshire</td>\n",
       "      <td>TRESPASSING</td>\n",
       "      <td>0</td>\n",
       "      <td>X</td>\n",
       "      <td>X</td>\n",
       "      <td>MTA - ORANGE LINE - CHATSWORTH</td>\n",
       "      <td>NaN</td>\n",
       "      <td>Invest Cont</td>\n",
       "      <td>10000    OLD DEPOT PLAZA              RD</td>\n",
       "      <td>34.2500</td>\n",
       "      <td>-118.5990</td>\n",
       "    </tr>\n",
       "    <tr>\n",
       "      <th>974476</th>\n",
       "      <td>240910892</td>\n",
       "      <td>08/13/2024 12:00:00 AM</td>\n",
       "      <td>08/12/24 0:00</td>\n",
       "      <td>2300</td>\n",
       "      <td>Van Nuys</td>\n",
       "      <td>VEHICLE - STOLEN</td>\n",
       "      <td>0</td>\n",
       "      <td>NaN</td>\n",
       "      <td>NaN</td>\n",
       "      <td>PARKING LOT</td>\n",
       "      <td>NaN</td>\n",
       "      <td>Invest Cont</td>\n",
       "      <td>6900    VESPER                       AV</td>\n",
       "      <td>34.1961</td>\n",
       "      <td>-118.4510</td>\n",
       "    </tr>\n",
       "  </tbody>\n",
       "</table>\n",
       "<p>648695 rows × 15 columns</p>\n",
       "</div>"
      ],
      "text/plain": [
       "            DR_NO           Date_Reported            Date_occured  \\\n",
       "0       190326475           03/01/20 0:00           03/01/20 0:00   \n",
       "1       200106753           02/09/20 0:00           02/08/20 0:00   \n",
       "2       200320258           11/11/20 0:00           11/04/20 0:00   \n",
       "3       200907217           05/10/23 0:00           03/10/20 0:00   \n",
       "4       220614831  08/18/2022 12:00:00 AM  08/17/2020 12:00:00 AM   \n",
       "...           ...                     ...                     ...   \n",
       "974469  242106032  02/20/2024 12:00:00 AM  02/17/2024 12:00:00 AM   \n",
       "974471  242011172  08/20/2024 12:00:00 AM  08/17/2024 12:00:00 AM   \n",
       "974472  240710284  07/24/2024 12:00:00 AM  07/23/2024 12:00:00 AM   \n",
       "974474  241711348  07/19/2024 12:00:00 AM  07/19/2024 12:00:00 AM   \n",
       "974476  240910892  08/13/2024 12:00:00 AM           08/12/24 0:00   \n",
       "\n",
       "        Time_occured        Area  \\\n",
       "0               2130    Wilshire   \n",
       "1               1800     Central   \n",
       "2               1700   Southwest   \n",
       "3               2037    Van Nuys   \n",
       "4               1200   Hollywood   \n",
       "...              ...         ...   \n",
       "974469          2330     Topanga   \n",
       "974471          2300     Olympic   \n",
       "974472          1400    Wilshire   \n",
       "974474           757  Devonshire   \n",
       "974476          2300    Van Nuys   \n",
       "\n",
       "                                               Crime_Code  Victim_age  \\\n",
       "0                                        VEHICLE - STOLEN           0   \n",
       "1                                   BURGLARY FROM VEHICLE          47   \n",
       "2                                           BIKE - STOLEN          19   \n",
       "3                SHOPLIFTING-GRAND THEFT ($950.01 & OVER)          19   \n",
       "4                                       THEFT OF IDENTITY          28   \n",
       "...                                                   ...         ...   \n",
       "974469    THEFT FROM MOTOR VEHICLE - PETTY ($950 & UNDER)          44   \n",
       "974471  THEFT-GRAND ($950.01 & OVER)EXCPT,GUNS,FOWL,LI...          36   \n",
       "974472                                   VEHICLE - STOLEN           0   \n",
       "974474                                        TRESPASSING           0   \n",
       "974476                                   VEHICLE - STOLEN           0   \n",
       "\n",
       "       Victim_sex Victim_descent  \\\n",
       "0               M              O   \n",
       "1               M              O   \n",
       "2               X              X   \n",
       "3               M              O   \n",
       "4               M              H   \n",
       "...           ...            ...   \n",
       "974469          F              O   \n",
       "974471          F              C   \n",
       "974472        NaN            NaN   \n",
       "974474          X              X   \n",
       "974476        NaN            NaN   \n",
       "\n",
       "                                              Premis Weapon        Status  \\\n",
       "0                                             STREET    NaN  Adult Arrest   \n",
       "1                  BUS STOP/LAYOVER (ALSO QUERY 124)    NaN   Invest Cont   \n",
       "2       MULTI-UNIT DWELLING (APARTMENT, DUPLEX, ETC)    NaN   Invest Cont   \n",
       "3                                     CLOTHING STORE    NaN   Invest Cont   \n",
       "4                                           SIDEWALK    NaN   Invest Cont   \n",
       "...                                              ...    ...           ...   \n",
       "974469                                      DRIVEWAY    NaN   Invest Cont   \n",
       "974471                        BAR/COCKTAIL/NIGHTCLUB    NaN   Invest Cont   \n",
       "974472                                        STREET    NaN   Invest Cont   \n",
       "974474                MTA - ORANGE LINE - CHATSWORTH    NaN   Invest Cont   \n",
       "974476                                   PARKING LOT    NaN   Invest Cont   \n",
       "\n",
       "                                        LOCATION      LAT       LON  \n",
       "0        1900 S  LONGWOOD                     AV  34.0375 -118.3506  \n",
       "1        1000 S  FLOWER                       ST  34.0444 -118.2628  \n",
       "2        1400 W  37TH                         ST  34.0210 -118.3002  \n",
       "3       14000    RIVERSIDE                    DR  34.1576 -118.4387  \n",
       "4                              1900    TRANSIENT  34.0944 -118.3277  \n",
       "...                                          ...      ...       ...  \n",
       "974469  22700    NAPA                         ST  34.2260 -118.6214  \n",
       "974471   3700    WILSHIRE                     BL  34.0617 -118.3066  \n",
       "974472   4000 W  23RD                         ST  34.0362 -118.3284  \n",
       "974474  10000    OLD DEPOT PLAZA              RD  34.2500 -118.5990  \n",
       "974476   6900    VESPER                       AV  34.1961 -118.4510  \n",
       "\n",
       "[648695 rows x 15 columns]"
      ]
     },
     "execution_count": 9,
     "metadata": {},
     "output_type": "execute_result"
    }
   ],
   "source": [
    "df_miss_weapon"
   ]
  },
  {
   "cell_type": "code",
   "execution_count": 10,
   "metadata": {
    "colab": {
     "base_uri": "https://localhost:8080/",
     "height": 429
    },
    "id": "Z8_ty5wvgXZ8",
    "outputId": "30cf558e-7713-439b-907c-a25c7e72ac83"
   },
   "outputs": [
    {
     "data": {
      "text/plain": [
       "VEHICLE - STOLEN                                            109035\n",
       "THEFT OF IDENTITY                                            60269\n",
       "BURGLARY FROM VEHICLE                                        57391\n",
       "VANDALISM - FELONY ($400 & OVER, ALL CHURCH VANDALISMS)      53136\n",
       "BURGLARY                                                     50095\n",
       "THEFT PLAIN - PETTY ($950 & UNDER)                           49054\n",
       "THEFT FROM MOTOR VEHICLE - PETTY ($950 & UNDER)              38676\n",
       "THEFT FROM MOTOR VEHICLE - GRAND ($950.01 AND OVER)          34980\n",
       "THEFT-GRAND ($950.01 & OVER)EXCPT,GUNS,FOWL,LIVESTK,PROD     31949\n",
       "SHOPLIFTING - PETTY THEFT ($950 & UNDER)                     27771\n",
       "Name: Crime_Code, dtype: int64"
      ]
     },
     "execution_count": 10,
     "metadata": {},
     "output_type": "execute_result"
    }
   ],
   "source": [
    "# Berdasarkan Jenis Kejahatan ( Kolom \"Crime_Code\" )\n",
    "df_miss_weapon.Crime_Code.value_counts().head(10)"
   ]
  },
  {
   "cell_type": "code",
   "execution_count": null,
   "metadata": {
    "colab": {
     "base_uri": "https://localhost:8080/",
     "height": 429
    },
    "id": "UJXosBmwgbS6",
    "outputId": "4ea8b223-dd38-4a9b-dc73-0b4504f891e2"
   },
   "outputs": [],
   "source": [
    "# Berdasarkan Lokasi (Kolom \"Premis\")\n",
    "df_miss_weapon.Premis.value_counts().head(10)"
   ]
  },
  {
   "cell_type": "markdown",
   "metadata": {},
   "source": [
    "<b>3) Mengidentifikasi kategori pada kolom \"Status\"</b>"
   ]
  },
  {
   "cell_type": "code",
   "execution_count": 35,
   "metadata": {},
   "outputs": [
    {
     "data": {
      "text/plain": [
       "Invest Cont     777945\n",
       "Adult Other     106883\n",
       "Adult Arrest     84629\n",
       "Juv Arrest        3181\n",
       "Juv Other         1832\n",
       "UNK                  7\n",
       "Name: Status, dtype: int64"
      ]
     },
     "execution_count": 35,
     "metadata": {},
     "output_type": "execute_result"
    }
   ],
   "source": [
    "data.Status.value_counts()"
   ]
  },
  {
   "cell_type": "markdown",
   "metadata": {
    "id": "GuqFQYVtlZvn"
   },
   "source": [
    "## Statistik Deskriptif"
   ]
  },
  {
   "cell_type": "code",
   "execution_count": 11,
   "metadata": {
    "colab": {
     "base_uri": "https://localhost:8080/",
     "height": 300
    },
    "id": "7BK3mC9glecF",
    "outputId": "ee7d0cb6-cf47-4524-c337-c955523232e8"
   },
   "outputs": [
    {
     "data": {
      "text/html": [
       "<div>\n",
       "<style scoped>\n",
       "    .dataframe tbody tr th:only-of-type {\n",
       "        vertical-align: middle;\n",
       "    }\n",
       "\n",
       "    .dataframe tbody tr th {\n",
       "        vertical-align: top;\n",
       "    }\n",
       "\n",
       "    .dataframe thead th {\n",
       "        text-align: right;\n",
       "    }\n",
       "</style>\n",
       "<table border=\"1\" class=\"dataframe\">\n",
       "  <thead>\n",
       "    <tr style=\"text-align: right;\">\n",
       "      <th></th>\n",
       "      <th>DR_NO</th>\n",
       "      <th>Time_occured</th>\n",
       "      <th>Victim_age</th>\n",
       "      <th>LAT</th>\n",
       "      <th>LON</th>\n",
       "    </tr>\n",
       "  </thead>\n",
       "  <tbody>\n",
       "    <tr>\n",
       "      <th>count</th>\n",
       "      <td>9.744770e+05</td>\n",
       "      <td>974477.000000</td>\n",
       "      <td>974477.000000</td>\n",
       "      <td>974477.000000</td>\n",
       "      <td>974477.000000</td>\n",
       "    </tr>\n",
       "    <tr>\n",
       "      <th>mean</th>\n",
       "      <td>2.195654e+08</td>\n",
       "      <td>1338.771108</td>\n",
       "      <td>29.168748</td>\n",
       "      <td>33.995066</td>\n",
       "      <td>-118.079971</td>\n",
       "    </tr>\n",
       "    <tr>\n",
       "      <th>std</th>\n",
       "      <td>1.285558e+07</td>\n",
       "      <td>651.717033</td>\n",
       "      <td>21.954094</td>\n",
       "      <td>1.643523</td>\n",
       "      <td>5.696584</td>\n",
       "    </tr>\n",
       "    <tr>\n",
       "      <th>min</th>\n",
       "      <td>8.170000e+02</td>\n",
       "      <td>1.000000</td>\n",
       "      <td>-4.000000</td>\n",
       "      <td>0.000000</td>\n",
       "      <td>-118.667600</td>\n",
       "    </tr>\n",
       "    <tr>\n",
       "      <th>25%</th>\n",
       "      <td>2.106058e+08</td>\n",
       "      <td>900.000000</td>\n",
       "      <td>0.000000</td>\n",
       "      <td>34.014600</td>\n",
       "      <td>-118.430600</td>\n",
       "    </tr>\n",
       "    <tr>\n",
       "      <th>50%</th>\n",
       "      <td>2.208087e+08</td>\n",
       "      <td>1420.000000</td>\n",
       "      <td>30.000000</td>\n",
       "      <td>34.058900</td>\n",
       "      <td>-118.322500</td>\n",
       "    </tr>\n",
       "    <tr>\n",
       "      <th>75%</th>\n",
       "      <td>2.309064e+08</td>\n",
       "      <td>1900.000000</td>\n",
       "      <td>44.000000</td>\n",
       "      <td>34.164900</td>\n",
       "      <td>-118.273900</td>\n",
       "    </tr>\n",
       "    <tr>\n",
       "      <th>max</th>\n",
       "      <td>2.499253e+08</td>\n",
       "      <td>2359.000000</td>\n",
       "      <td>120.000000</td>\n",
       "      <td>34.334300</td>\n",
       "      <td>0.000000</td>\n",
       "    </tr>\n",
       "  </tbody>\n",
       "</table>\n",
       "</div>"
      ],
      "text/plain": [
       "              DR_NO   Time_occured     Victim_age            LAT  \\\n",
       "count  9.744770e+05  974477.000000  974477.000000  974477.000000   \n",
       "mean   2.195654e+08    1338.771108      29.168748      33.995066   \n",
       "std    1.285558e+07     651.717033      21.954094       1.643523   \n",
       "min    8.170000e+02       1.000000      -4.000000       0.000000   \n",
       "25%    2.106058e+08     900.000000       0.000000      34.014600   \n",
       "50%    2.208087e+08    1420.000000      30.000000      34.058900   \n",
       "75%    2.309064e+08    1900.000000      44.000000      34.164900   \n",
       "max    2.499253e+08    2359.000000     120.000000      34.334300   \n",
       "\n",
       "                 LON  \n",
       "count  974477.000000  \n",
       "mean     -118.079971  \n",
       "std         5.696584  \n",
       "min      -118.667600  \n",
       "25%      -118.430600  \n",
       "50%      -118.322500  \n",
       "75%      -118.273900  \n",
       "max         0.000000  "
      ]
     },
     "execution_count": 11,
     "metadata": {},
     "output_type": "execute_result"
    }
   ],
   "source": [
    "# NUMERIK VALUE\n",
    "data.describe()"
   ]
  },
  {
   "cell_type": "code",
   "execution_count": 12,
   "metadata": {
    "colab": {
     "base_uri": "https://localhost:8080/",
     "height": 209
    },
    "id": "NNOEPs7llhYS",
    "outputId": "83f6391c-d0fb-4a9e-f17d-0dc796ab3349"
   },
   "outputs": [
    {
     "data": {
      "text/html": [
       "<div>\n",
       "<style scoped>\n",
       "    .dataframe tbody tr th:only-of-type {\n",
       "        vertical-align: middle;\n",
       "    }\n",
       "\n",
       "    .dataframe tbody tr th {\n",
       "        vertical-align: top;\n",
       "    }\n",
       "\n",
       "    .dataframe thead th {\n",
       "        text-align: right;\n",
       "    }\n",
       "</style>\n",
       "<table border=\"1\" class=\"dataframe\">\n",
       "  <thead>\n",
       "    <tr style=\"text-align: right;\">\n",
       "      <th></th>\n",
       "      <th>Date_Reported</th>\n",
       "      <th>Date_occured</th>\n",
       "      <th>Area</th>\n",
       "      <th>Crime_Code</th>\n",
       "      <th>Victim_sex</th>\n",
       "      <th>Victim_descent</th>\n",
       "      <th>Premis</th>\n",
       "      <th>Weapon</th>\n",
       "      <th>Status</th>\n",
       "      <th>LOCATION</th>\n",
       "    </tr>\n",
       "  </thead>\n",
       "  <tbody>\n",
       "    <tr>\n",
       "      <th>count</th>\n",
       "      <td>974477</td>\n",
       "      <td>974477</td>\n",
       "      <td>974477</td>\n",
       "      <td>974477</td>\n",
       "      <td>838474</td>\n",
       "      <td>838464</td>\n",
       "      <td>973893</td>\n",
       "      <td>325782</td>\n",
       "      <td>974477</td>\n",
       "      <td>974477</td>\n",
       "    </tr>\n",
       "    <tr>\n",
       "      <th>unique</th>\n",
       "      <td>1708</td>\n",
       "      <td>1707</td>\n",
       "      <td>21</td>\n",
       "      <td>139</td>\n",
       "      <td>5</td>\n",
       "      <td>20</td>\n",
       "      <td>306</td>\n",
       "      <td>79</td>\n",
       "      <td>6</td>\n",
       "      <td>66165</td>\n",
       "    </tr>\n",
       "    <tr>\n",
       "      <th>top</th>\n",
       "      <td>02/02/23 0:00</td>\n",
       "      <td>01/01/20 0:00</td>\n",
       "      <td>Central</td>\n",
       "      <td>VEHICLE - STOLEN</td>\n",
       "      <td>M</td>\n",
       "      <td>H</td>\n",
       "      <td>STREET</td>\n",
       "      <td>STRONG-ARM (HANDS, FIST, FEET OR BODILY FORCE)</td>\n",
       "      <td>Invest Cont</td>\n",
       "      <td>800 N  ALAMEDA                      ST</td>\n",
       "    </tr>\n",
       "    <tr>\n",
       "      <th>freq</th>\n",
       "      <td>929</td>\n",
       "      <td>1153</td>\n",
       "      <td>67095</td>\n",
       "      <td>109088</td>\n",
       "      <td>394539</td>\n",
       "      <td>291256</td>\n",
       "      <td>250924</td>\n",
       "      <td>174296</td>\n",
       "      <td>777945</td>\n",
       "      <td>2513</td>\n",
       "    </tr>\n",
       "  </tbody>\n",
       "</table>\n",
       "</div>"
      ],
      "text/plain": [
       "        Date_Reported   Date_occured     Area        Crime_Code Victim_sex  \\\n",
       "count          974477         974477   974477            974477     838474   \n",
       "unique           1708           1707       21               139          5   \n",
       "top     02/02/23 0:00  01/01/20 0:00  Central  VEHICLE - STOLEN          M   \n",
       "freq              929           1153    67095            109088     394539   \n",
       "\n",
       "       Victim_descent  Premis                                          Weapon  \\\n",
       "count          838464  973893                                          325782   \n",
       "unique             20     306                                              79   \n",
       "top                 H  STREET  STRONG-ARM (HANDS, FIST, FEET OR BODILY FORCE)   \n",
       "freq           291256  250924                                          174296   \n",
       "\n",
       "             Status                                LOCATION  \n",
       "count        974477                                  974477  \n",
       "unique            6                                   66165  \n",
       "top     Invest Cont  800 N  ALAMEDA                      ST  \n",
       "freq         777945                                    2513  "
      ]
     },
     "execution_count": 12,
     "metadata": {},
     "output_type": "execute_result"
    }
   ],
   "source": [
    "# KATEGORIKAL VALUE\n",
    "data.describe(include='object')"
   ]
  },
  {
   "cell_type": "markdown",
   "metadata": {
    "id": "bhSBU1IQy9VN"
   },
   "source": [
    "# Feature Engineering"
   ]
  },
  {
   "cell_type": "markdown",
   "metadata": {
    "id": "6SPIP7FJD6o8"
   },
   "source": [
    "## Kolom \"Weapon\""
   ]
  },
  {
   "cell_type": "code",
   "execution_count": 17,
   "metadata": {
    "id": "0c1CQbnD5EXD"
   },
   "outputs": [],
   "source": [
    "# Imputasi\n",
    "data['Weapon'] = data['Weapon'].fillna('Unknown')"
   ]
  },
  {
   "cell_type": "code",
   "execution_count": 29,
   "metadata": {
    "id": "fcuFlRu7-TGB"
   },
   "outputs": [],
   "source": [
    "# Penyelarasan nilai value data fitur \"Weapon\"\n",
    "\n",
    "# Mengubah value record\n",
    "def label_items(item):\n",
    "    item = str(item).upper()  # Convert the item to uppercase once\n",
    "    if 'KNIFE' in item:\n",
    "        return 'Knife'\n",
    "    elif any(keyword in item for keyword in ['RIFLE', 'GUN', 'PISTOL', 'ASSAULT']):\n",
    "        return 'Gun'\n",
    "    elif 'STRONG' in item:\n",
    "        return 'BODY-ARM'\n",
    "    elif 'UNKNOWN' in item:\n",
    "        return 'Unknown'\n",
    "    return item  # If no conditions match, return the original item"
   ]
  },
  {
   "cell_type": "code",
   "execution_count": 30,
   "metadata": {
    "id": "Xpqj63uQ_2q3"
   },
   "outputs": [],
   "source": [
    "# Pengaplikasian fungsi \"label_items\"\n",
    "data['item'] = data['Weapon'].apply(label_items)"
   ]
  },
  {
   "cell_type": "code",
   "execution_count": 31,
   "metadata": {
    "colab": {
     "base_uri": "https://localhost:8080/",
     "height": 429
    },
    "id": "vrzATw7o2w07",
    "outputId": "7c1c1cd4-e127-4f5f-d743-0b91168ed162"
   },
   "outputs": [
    {
     "data": {
      "text/plain": [
       "Unknown               691936\n",
       "BODY-ARM              174296\n",
       "Gun                    32141\n",
       "VERBAL THREAT          23786\n",
       "Knife                  18588\n",
       "MACE/PEPPER SPRAY       3728\n",
       "VEHICLE                 3238\n",
       "ROCK/THROWN OBJECT      2731\n",
       "PIPE/METAL PIPE         2462\n",
       "BOTTLE                  2412\n",
       "Name: item, dtype: int64"
      ]
     },
     "execution_count": 31,
     "metadata": {},
     "output_type": "execute_result"
    }
   ],
   "source": [
    "# Pengecekkan Data\n",
    "data.item.value_counts().head(10)"
   ]
  },
  {
   "cell_type": "markdown",
   "metadata": {
    "id": "c1LUOU_tQwNy"
   },
   "source": [
    "<hr>"
   ]
  },
  {
   "cell_type": "markdown",
   "metadata": {
    "id": "lgfKUIJPENDV"
   },
   "source": [
    "## Kolom \"Victim_sex\""
   ]
  },
  {
   "cell_type": "code",
   "execution_count": 7,
   "metadata": {
    "id": "AHWF9bh3EQpx"
   },
   "outputs": [],
   "source": [
    "# Function to perform random sample imputation\n",
    "def random_sample_imputer(df, column_name):\n",
    "    # Get non-null values in the column\n",
    "    non_null_values = df[column_name].dropna().values\n",
    "\n",
    "    # Define a function to randomly sample from non-null values\n",
    "    def impute_value(x):\n",
    "        if pd.isnull(x):\n",
    "            return np.random.choice(non_null_values)\n",
    "        else:\n",
    "            return x\n",
    "\n",
    "    # Apply the impute_value function to the column\n",
    "    df[column_name] = df[column_name].apply(impute_value)\n",
    "    return df"
   ]
  },
  {
   "cell_type": "code",
   "execution_count": 8,
   "metadata": {
    "id": "i9QPdy85OSJd"
   },
   "outputs": [],
   "source": [
    "# Imputasi pada kolom \"Victim_sex\"\n",
    "df_imputed = random_sample_imputer(data, 'Victim_sex')"
   ]
  },
  {
   "cell_type": "code",
   "execution_count": 9,
   "metadata": {
    "colab": {
     "base_uri": "https://localhost:8080/",
     "height": 585
    },
    "id": "_F0DP4okOwAC",
    "outputId": "615ab5e9-a889-4a2b-d0b9-9b423b46301b"
   },
   "outputs": [
    {
     "data": {
      "text/plain": [
       "DR_NO                  0\n",
       "Date_Reported          0\n",
       "Date_occured           0\n",
       "Time_occured           0\n",
       "Area                   0\n",
       "Crime_Code             0\n",
       "Victim_age             0\n",
       "Victim_sex             0\n",
       "Victim_descent    136013\n",
       "Premis               584\n",
       "Weapon            648695\n",
       "Status                 0\n",
       "LOCATION               0\n",
       "LAT                    0\n",
       "LON                    0\n",
       "dtype: int64"
      ]
     },
     "execution_count": 9,
     "metadata": {},
     "output_type": "execute_result"
    }
   ],
   "source": [
    "# Melakukan pengecekkan\n",
    "df_imputed.isna().sum()"
   ]
  },
  {
   "cell_type": "markdown",
   "metadata": {
    "id": "R-5SucP1U4Zd"
   },
   "source": [
    "<hr>"
   ]
  },
  {
   "cell_type": "markdown",
   "metadata": {
    "id": "RBqhb3jUU1MU"
   },
   "source": [
    "## Kolom \"Victim_descent\""
   ]
  },
  {
   "cell_type": "code",
   "execution_count": 10,
   "metadata": {
    "id": "A7aRnIf5U0oR"
   },
   "outputs": [],
   "source": [
    "# Imputasi pada kolom \"Victim_descent\"\n",
    "df_imputed = random_sample_imputer(data, 'Victim_descent')"
   ]
  },
  {
   "cell_type": "code",
   "execution_count": 11,
   "metadata": {
    "colab": {
     "base_uri": "https://localhost:8080/",
     "height": 429
    },
    "id": "kxMC2fM2W7kT",
    "outputId": "d5a4140b-6a66-47f8-b9ce-b6f74307e7ad"
   },
   "outputs": [
    {
     "data": {
      "text/plain": [
       "H    338552\n",
       "W    227566\n",
       "B    155270\n",
       "X    118196\n",
       "O     88489\n",
       "A     24393\n",
       "K      6434\n",
       "F      5178\n",
       "C      4852\n",
       "J      1675\n",
       "Name: Victim_descent, dtype: int64"
      ]
     },
     "execution_count": 11,
     "metadata": {},
     "output_type": "execute_result"
    }
   ],
   "source": [
    "df_imputed.Victim_descent.value_counts().head(10)"
   ]
  },
  {
   "cell_type": "code",
   "execution_count": 12,
   "metadata": {
    "colab": {
     "base_uri": "https://localhost:8080/",
     "height": 585
    },
    "id": "DrL4y7AtVM0p",
    "outputId": "349fae28-9396-4f42-dcd0-fb5fd8d0f012"
   },
   "outputs": [
    {
     "data": {
      "text/plain": [
       "DR_NO                  0\n",
       "Date_Reported          0\n",
       "Date_occured           0\n",
       "Time_occured           0\n",
       "Area                   0\n",
       "Crime_Code             0\n",
       "Victim_age             0\n",
       "Victim_sex             0\n",
       "Victim_descent         0\n",
       "Premis               584\n",
       "Weapon            648695\n",
       "Status                 0\n",
       "LOCATION               0\n",
       "LAT                    0\n",
       "LON                    0\n",
       "dtype: int64"
      ]
     },
     "execution_count": 12,
     "metadata": {},
     "output_type": "execute_result"
    }
   ],
   "source": [
    "# Melakukan pengecekkan\n",
    "df_imputed.isna().sum()"
   ]
  },
  {
   "cell_type": "markdown",
   "metadata": {
    "id": "TsUnciT5WvWc"
   },
   "source": [
    "<hr>"
   ]
  },
  {
   "cell_type": "markdown",
   "metadata": {
    "id": "r1sqV9y0WsCZ"
   },
   "source": [
    "<b> Kolom \"Premis\" </b>"
   ]
  },
  {
   "cell_type": "code",
   "execution_count": 13,
   "metadata": {
    "id": "CQV2v1Z5W2Q1"
   },
   "outputs": [],
   "source": [
    "# Imputasi pada kolom \"Premis\"\n",
    "df_imputed = random_sample_imputer(data, 'Premis')"
   ]
  },
  {
   "cell_type": "code",
   "execution_count": 14,
   "metadata": {
    "colab": {
     "base_uri": "https://localhost:8080/",
     "height": 429
    },
    "id": "sdaTIC-4YKfx",
    "outputId": "4dfeb166-ec90-4e6b-e730-ca5f46a48d5f"
   },
   "outputs": [
    {
     "data": {
      "text/plain": [
       "STREET                                          251059\n",
       "SINGLE FAMILY DWELLING                          161273\n",
       "MULTI-UNIT DWELLING (APARTMENT, DUPLEX, ETC)    116842\n",
       "PARKING LOT                                      67188\n",
       "OTHER BUSINESS                                   46353\n",
       "SIDEWALK                                         40391\n",
       "VEHICLE, PASSENGER/TRUCK                         28422\n",
       "GARAGE/CARPORT                                   18707\n",
       "DRIVEWAY                                         15571\n",
       "DEPARTMENT STORE                                 13540\n",
       "Name: Premis, dtype: int64"
      ]
     },
     "execution_count": 14,
     "metadata": {},
     "output_type": "execute_result"
    }
   ],
   "source": [
    "df_imputed.Premis.value_counts().head(10)"
   ]
  },
  {
   "cell_type": "code",
   "execution_count": 15,
   "metadata": {
    "colab": {
     "base_uri": "https://localhost:8080/",
     "height": 585
    },
    "id": "2HNALHlUYdFq",
    "outputId": "71b64059-60e6-4da1-a2dc-37ee1de15139"
   },
   "outputs": [
    {
     "data": {
      "text/plain": [
       "DR_NO                  0\n",
       "Date_Reported          0\n",
       "Date_occured           0\n",
       "Time_occured           0\n",
       "Area                   0\n",
       "Crime_Code             0\n",
       "Victim_age             0\n",
       "Victim_sex             0\n",
       "Victim_descent         0\n",
       "Premis                 0\n",
       "Weapon            648695\n",
       "Status                 0\n",
       "LOCATION               0\n",
       "LAT                    0\n",
       "LON                    0\n",
       "dtype: int64"
      ]
     },
     "execution_count": 15,
     "metadata": {},
     "output_type": "execute_result"
    }
   ],
   "source": [
    "# Melakukan pengecekkan\n",
    "df_imputed.isna().sum()"
   ]
  },
  {
   "cell_type": "markdown",
   "metadata": {},
   "source": [
    "## Label Encoding Kolom Kategorikal"
   ]
  },
  {
   "cell_type": "code",
   "execution_count": 36,
   "metadata": {},
   "outputs": [
    {
     "name": "stdout",
     "output_type": "stream",
     "text": [
      "            DR_NO  Date_Reported  Date_occured  Time_occured  Area  \\\n",
      "0       190326475            297           297          2130    20   \n",
      "1       200106753            195           190          1800     1   \n",
      "2       200320258           1504          1475          1700    15   \n",
      "3       200907217            651           342          2037    17   \n",
      "4       220614831           1150          1142          1200     6   \n",
      "...           ...            ...           ...           ...   ...   \n",
      "974472  240710284           1027          1021          1400    20   \n",
      "974473  240104953             74            74           100     1   \n",
      "974474  241711348           1002          1001           757     2   \n",
      "974475  240309674            572           571          1500    15   \n",
      "974476  240910892           1127          1121          2300    17   \n",
      "\n",
      "        Crime_Code  Victim_age  Victim_sex  Victim_descent  Premis  Weapon  \\\n",
      "0              133           0           3              12     266      77   \n",
      "1               21          47           3              12      29      77   \n",
      "2               11          19           4              18     207      77   \n",
      "3              105          19           3              12      40      77   \n",
      "4              115          28           3               7     254      77   \n",
      "...            ...         ...         ...             ...     ...     ...   \n",
      "974472         133           0           3               7     266      77   \n",
      "974473         131           0           4              18      97      75   \n",
      "974474         128           0           4              18     158      77   \n",
      "974475           2          70           1              17     254      63   \n",
      "974476         133           0           4               7     227      77   \n",
      "\n",
      "        Status  LOCATION      LAT       LON  item  \n",
      "0            0     21568  34.0375 -118.3506    49  \n",
      "1            2      1854  34.0444 -118.2628    49  \n",
      "2            2     13299  34.0210 -118.3002    49  \n",
      "3            2     13496  34.1576 -118.4387    49  \n",
      "4            2     21408  34.0944 -118.3277    49  \n",
      "...        ...       ...      ...       ...   ...  \n",
      "974472       2     36394  34.0362 -118.3284    49  \n",
      "974473       2     11101  34.0685 -118.2460    49  \n",
      "974474       2      2224  34.2500 -118.5990    49  \n",
      "974475       2     60337  34.0215 -118.2868    43  \n",
      "974476       2     47506  34.1961 -118.4510    49  \n",
      "\n",
      "[974477 rows x 16 columns]\n"
     ]
    }
   ],
   "source": [
    "from sklearn.preprocessing import LabelEncoder\n",
    "\n",
    "# Copy the original dataset (replace df with your actual DataFrame)\n",
    "df_encoded = df_imputed.copy()\n",
    "\n",
    "# Initialize LabelEncoder\n",
    "le = LabelEncoder()\n",
    "\n",
    "# Loop through all the columns and apply Label Encoding for categorical columns\n",
    "for column in df_encoded.select_dtypes(include=['object']).columns:\n",
    "    df_encoded[column] = le.fit_transform(df_encoded[column])\n",
    "\n",
    "# Display the encoded DataFrame\n",
    "print(df_encoded)\n"
   ]
  },
  {
   "cell_type": "markdown",
   "metadata": {
    "id": "tgFu_9XSw5Jb"
   },
   "source": [
    "# Visualisasi"
   ]
  },
  {
   "cell_type": "markdown",
   "metadata": {
    "id": "6hB2fcM82kvr"
   },
   "source": [
    "## Analisa Senjata yang paling sering digunakan"
   ]
  },
  {
   "cell_type": "code",
   "execution_count": 21,
   "metadata": {
    "id": "f8ASVfSGfo1n"
   },
   "outputs": [],
   "source": [
    "top_10_weapons = df_imputed[~df_imputed['item'].isin(['Unknown'])]"
   ]
  },
  {
   "cell_type": "code",
   "execution_count": 34,
   "metadata": {
    "colab": {
     "base_uri": "https://localhost:8080/",
     "height": 542
    },
    "id": "1AebPO8zw6JI",
    "outputId": "2958818c-6b24-4669-91e1-df0c32d482ea"
   },
   "outputs": [
    {
     "data": {
      "application/vnd.plotly.v1+json": {
       "config": {
        "plotlyServerURL": "https://plot.ly"
       },
       "data": [
        {
         "alignmentgroup": "True",
         "hovertemplate": "index=%{x}<br>Count=%{y}<extra></extra>",
         "legendgroup": "",
         "marker": {
          "color": "#636efa",
          "pattern": {
           "shape": ""
          }
         },
         "name": "",
         "offsetgroup": "",
         "orientation": "v",
         "showlegend": false,
         "textposition": "auto",
         "type": "bar",
         "x": [
          "BODY-ARM",
          "Gun",
          "VERBAL THREAT",
          "Knife",
          "MACE/PEPPER SPRAY"
         ],
         "xaxis": "x",
         "y": [
          174296,
          32141,
          23786,
          18588,
          3728
         ],
         "yaxis": "y"
        }
       ],
       "layout": {
        "autosize": true,
        "barmode": "relative",
        "legend": {
         "tracegroupgap": 0
        },
        "template": {
         "data": {
          "bar": [
           {
            "error_x": {
             "color": "#2a3f5f"
            },
            "error_y": {
             "color": "#2a3f5f"
            },
            "marker": {
             "line": {
              "color": "#E5ECF6",
              "width": 0.5
             },
             "pattern": {
              "fillmode": "overlay",
              "size": 10,
              "solidity": 0.2
             }
            },
            "type": "bar"
           }
          ],
          "barpolar": [
           {
            "marker": {
             "line": {
              "color": "#E5ECF6",
              "width": 0.5
             },
             "pattern": {
              "fillmode": "overlay",
              "size": 10,
              "solidity": 0.2
             }
            },
            "type": "barpolar"
           }
          ],
          "carpet": [
           {
            "aaxis": {
             "endlinecolor": "#2a3f5f",
             "gridcolor": "white",
             "linecolor": "white",
             "minorgridcolor": "white",
             "startlinecolor": "#2a3f5f"
            },
            "baxis": {
             "endlinecolor": "#2a3f5f",
             "gridcolor": "white",
             "linecolor": "white",
             "minorgridcolor": "white",
             "startlinecolor": "#2a3f5f"
            },
            "type": "carpet"
           }
          ],
          "choropleth": [
           {
            "colorbar": {
             "outlinewidth": 0,
             "ticks": ""
            },
            "type": "choropleth"
           }
          ],
          "contour": [
           {
            "colorbar": {
             "outlinewidth": 0,
             "ticks": ""
            },
            "colorscale": [
             [
              0,
              "#0d0887"
             ],
             [
              0.1111111111111111,
              "#46039f"
             ],
             [
              0.2222222222222222,
              "#7201a8"
             ],
             [
              0.3333333333333333,
              "#9c179e"
             ],
             [
              0.4444444444444444,
              "#bd3786"
             ],
             [
              0.5555555555555556,
              "#d8576b"
             ],
             [
              0.6666666666666666,
              "#ed7953"
             ],
             [
              0.7777777777777778,
              "#fb9f3a"
             ],
             [
              0.8888888888888888,
              "#fdca26"
             ],
             [
              1,
              "#f0f921"
             ]
            ],
            "type": "contour"
           }
          ],
          "contourcarpet": [
           {
            "colorbar": {
             "outlinewidth": 0,
             "ticks": ""
            },
            "type": "contourcarpet"
           }
          ],
          "heatmap": [
           {
            "colorbar": {
             "outlinewidth": 0,
             "ticks": ""
            },
            "colorscale": [
             [
              0,
              "#0d0887"
             ],
             [
              0.1111111111111111,
              "#46039f"
             ],
             [
              0.2222222222222222,
              "#7201a8"
             ],
             [
              0.3333333333333333,
              "#9c179e"
             ],
             [
              0.4444444444444444,
              "#bd3786"
             ],
             [
              0.5555555555555556,
              "#d8576b"
             ],
             [
              0.6666666666666666,
              "#ed7953"
             ],
             [
              0.7777777777777778,
              "#fb9f3a"
             ],
             [
              0.8888888888888888,
              "#fdca26"
             ],
             [
              1,
              "#f0f921"
             ]
            ],
            "type": "heatmap"
           }
          ],
          "heatmapgl": [
           {
            "colorbar": {
             "outlinewidth": 0,
             "ticks": ""
            },
            "colorscale": [
             [
              0,
              "#0d0887"
             ],
             [
              0.1111111111111111,
              "#46039f"
             ],
             [
              0.2222222222222222,
              "#7201a8"
             ],
             [
              0.3333333333333333,
              "#9c179e"
             ],
             [
              0.4444444444444444,
              "#bd3786"
             ],
             [
              0.5555555555555556,
              "#d8576b"
             ],
             [
              0.6666666666666666,
              "#ed7953"
             ],
             [
              0.7777777777777778,
              "#fb9f3a"
             ],
             [
              0.8888888888888888,
              "#fdca26"
             ],
             [
              1,
              "#f0f921"
             ]
            ],
            "type": "heatmapgl"
           }
          ],
          "histogram": [
           {
            "marker": {
             "pattern": {
              "fillmode": "overlay",
              "size": 10,
              "solidity": 0.2
             }
            },
            "type": "histogram"
           }
          ],
          "histogram2d": [
           {
            "colorbar": {
             "outlinewidth": 0,
             "ticks": ""
            },
            "colorscale": [
             [
              0,
              "#0d0887"
             ],
             [
              0.1111111111111111,
              "#46039f"
             ],
             [
              0.2222222222222222,
              "#7201a8"
             ],
             [
              0.3333333333333333,
              "#9c179e"
             ],
             [
              0.4444444444444444,
              "#bd3786"
             ],
             [
              0.5555555555555556,
              "#d8576b"
             ],
             [
              0.6666666666666666,
              "#ed7953"
             ],
             [
              0.7777777777777778,
              "#fb9f3a"
             ],
             [
              0.8888888888888888,
              "#fdca26"
             ],
             [
              1,
              "#f0f921"
             ]
            ],
            "type": "histogram2d"
           }
          ],
          "histogram2dcontour": [
           {
            "colorbar": {
             "outlinewidth": 0,
             "ticks": ""
            },
            "colorscale": [
             [
              0,
              "#0d0887"
             ],
             [
              0.1111111111111111,
              "#46039f"
             ],
             [
              0.2222222222222222,
              "#7201a8"
             ],
             [
              0.3333333333333333,
              "#9c179e"
             ],
             [
              0.4444444444444444,
              "#bd3786"
             ],
             [
              0.5555555555555556,
              "#d8576b"
             ],
             [
              0.6666666666666666,
              "#ed7953"
             ],
             [
              0.7777777777777778,
              "#fb9f3a"
             ],
             [
              0.8888888888888888,
              "#fdca26"
             ],
             [
              1,
              "#f0f921"
             ]
            ],
            "type": "histogram2dcontour"
           }
          ],
          "mesh3d": [
           {
            "colorbar": {
             "outlinewidth": 0,
             "ticks": ""
            },
            "type": "mesh3d"
           }
          ],
          "parcoords": [
           {
            "line": {
             "colorbar": {
              "outlinewidth": 0,
              "ticks": ""
             }
            },
            "type": "parcoords"
           }
          ],
          "pie": [
           {
            "automargin": true,
            "type": "pie"
           }
          ],
          "scatter": [
           {
            "fillpattern": {
             "fillmode": "overlay",
             "size": 10,
             "solidity": 0.2
            },
            "type": "scatter"
           }
          ],
          "scatter3d": [
           {
            "line": {
             "colorbar": {
              "outlinewidth": 0,
              "ticks": ""
             }
            },
            "marker": {
             "colorbar": {
              "outlinewidth": 0,
              "ticks": ""
             }
            },
            "type": "scatter3d"
           }
          ],
          "scattercarpet": [
           {
            "marker": {
             "colorbar": {
              "outlinewidth": 0,
              "ticks": ""
             }
            },
            "type": "scattercarpet"
           }
          ],
          "scattergeo": [
           {
            "marker": {
             "colorbar": {
              "outlinewidth": 0,
              "ticks": ""
             }
            },
            "type": "scattergeo"
           }
          ],
          "scattergl": [
           {
            "marker": {
             "colorbar": {
              "outlinewidth": 0,
              "ticks": ""
             }
            },
            "type": "scattergl"
           }
          ],
          "scattermapbox": [
           {
            "marker": {
             "colorbar": {
              "outlinewidth": 0,
              "ticks": ""
             }
            },
            "type": "scattermapbox"
           }
          ],
          "scatterpolar": [
           {
            "marker": {
             "colorbar": {
              "outlinewidth": 0,
              "ticks": ""
             }
            },
            "type": "scatterpolar"
           }
          ],
          "scatterpolargl": [
           {
            "marker": {
             "colorbar": {
              "outlinewidth": 0,
              "ticks": ""
             }
            },
            "type": "scatterpolargl"
           }
          ],
          "scatterternary": [
           {
            "marker": {
             "colorbar": {
              "outlinewidth": 0,
              "ticks": ""
             }
            },
            "type": "scatterternary"
           }
          ],
          "surface": [
           {
            "colorbar": {
             "outlinewidth": 0,
             "ticks": ""
            },
            "colorscale": [
             [
              0,
              "#0d0887"
             ],
             [
              0.1111111111111111,
              "#46039f"
             ],
             [
              0.2222222222222222,
              "#7201a8"
             ],
             [
              0.3333333333333333,
              "#9c179e"
             ],
             [
              0.4444444444444444,
              "#bd3786"
             ],
             [
              0.5555555555555556,
              "#d8576b"
             ],
             [
              0.6666666666666666,
              "#ed7953"
             ],
             [
              0.7777777777777778,
              "#fb9f3a"
             ],
             [
              0.8888888888888888,
              "#fdca26"
             ],
             [
              1,
              "#f0f921"
             ]
            ],
            "type": "surface"
           }
          ],
          "table": [
           {
            "cells": {
             "fill": {
              "color": "#EBF0F8"
             },
             "line": {
              "color": "white"
             }
            },
            "header": {
             "fill": {
              "color": "#C8D4E3"
             },
             "line": {
              "color": "white"
             }
            },
            "type": "table"
           }
          ]
         },
         "layout": {
          "annotationdefaults": {
           "arrowcolor": "#2a3f5f",
           "arrowhead": 0,
           "arrowwidth": 1
          },
          "autotypenumbers": "strict",
          "coloraxis": {
           "colorbar": {
            "outlinewidth": 0,
            "ticks": ""
           }
          },
          "colorscale": {
           "diverging": [
            [
             0,
             "#8e0152"
            ],
            [
             0.1,
             "#c51b7d"
            ],
            [
             0.2,
             "#de77ae"
            ],
            [
             0.3,
             "#f1b6da"
            ],
            [
             0.4,
             "#fde0ef"
            ],
            [
             0.5,
             "#f7f7f7"
            ],
            [
             0.6,
             "#e6f5d0"
            ],
            [
             0.7,
             "#b8e186"
            ],
            [
             0.8,
             "#7fbc41"
            ],
            [
             0.9,
             "#4d9221"
            ],
            [
             1,
             "#276419"
            ]
           ],
           "sequential": [
            [
             0,
             "#0d0887"
            ],
            [
             0.1111111111111111,
             "#46039f"
            ],
            [
             0.2222222222222222,
             "#7201a8"
            ],
            [
             0.3333333333333333,
             "#9c179e"
            ],
            [
             0.4444444444444444,
             "#bd3786"
            ],
            [
             0.5555555555555556,
             "#d8576b"
            ],
            [
             0.6666666666666666,
             "#ed7953"
            ],
            [
             0.7777777777777778,
             "#fb9f3a"
            ],
            [
             0.8888888888888888,
             "#fdca26"
            ],
            [
             1,
             "#f0f921"
            ]
           ],
           "sequentialminus": [
            [
             0,
             "#0d0887"
            ],
            [
             0.1111111111111111,
             "#46039f"
            ],
            [
             0.2222222222222222,
             "#7201a8"
            ],
            [
             0.3333333333333333,
             "#9c179e"
            ],
            [
             0.4444444444444444,
             "#bd3786"
            ],
            [
             0.5555555555555556,
             "#d8576b"
            ],
            [
             0.6666666666666666,
             "#ed7953"
            ],
            [
             0.7777777777777778,
             "#fb9f3a"
            ],
            [
             0.8888888888888888,
             "#fdca26"
            ],
            [
             1,
             "#f0f921"
            ]
           ]
          },
          "colorway": [
           "#636efa",
           "#EF553B",
           "#00cc96",
           "#ab63fa",
           "#FFA15A",
           "#19d3f3",
           "#FF6692",
           "#B6E880",
           "#FF97FF",
           "#FECB52"
          ],
          "font": {
           "color": "#2a3f5f"
          },
          "geo": {
           "bgcolor": "white",
           "lakecolor": "white",
           "landcolor": "#E5ECF6",
           "showlakes": true,
           "showland": true,
           "subunitcolor": "white"
          },
          "hoverlabel": {
           "align": "left"
          },
          "hovermode": "closest",
          "mapbox": {
           "style": "light"
          },
          "paper_bgcolor": "white",
          "plot_bgcolor": "#E5ECF6",
          "polar": {
           "angularaxis": {
            "gridcolor": "white",
            "linecolor": "white",
            "ticks": ""
           },
           "bgcolor": "#E5ECF6",
           "radialaxis": {
            "gridcolor": "white",
            "linecolor": "white",
            "ticks": ""
           }
          },
          "scene": {
           "xaxis": {
            "backgroundcolor": "#E5ECF6",
            "gridcolor": "white",
            "gridwidth": 2,
            "linecolor": "white",
            "showbackground": true,
            "ticks": "",
            "zerolinecolor": "white"
           },
           "yaxis": {
            "backgroundcolor": "#E5ECF6",
            "gridcolor": "white",
            "gridwidth": 2,
            "linecolor": "white",
            "showbackground": true,
            "ticks": "",
            "zerolinecolor": "white"
           },
           "zaxis": {
            "backgroundcolor": "#E5ECF6",
            "gridcolor": "white",
            "gridwidth": 2,
            "linecolor": "white",
            "showbackground": true,
            "ticks": "",
            "zerolinecolor": "white"
           }
          },
          "shapedefaults": {
           "line": {
            "color": "#2a3f5f"
           }
          },
          "ternary": {
           "aaxis": {
            "gridcolor": "white",
            "linecolor": "white",
            "ticks": ""
           },
           "baxis": {
            "gridcolor": "white",
            "linecolor": "white",
            "ticks": ""
           },
           "bgcolor": "#E5ECF6",
           "caxis": {
            "gridcolor": "white",
            "linecolor": "white",
            "ticks": ""
           }
          },
          "title": {
           "x": 0.05
          },
          "xaxis": {
           "automargin": true,
           "gridcolor": "white",
           "linecolor": "white",
           "ticks": "",
           "title": {
            "standoff": 15
           },
           "zerolinecolor": "white",
           "zerolinewidth": 2
          },
          "yaxis": {
           "automargin": true,
           "gridcolor": "white",
           "linecolor": "white",
           "ticks": "",
           "title": {
            "standoff": 15
           },
           "zerolinecolor": "white",
           "zerolinewidth": 2
          }
         }
        },
        "title": {
         "text": "Top 10 Weapons Used in Crimes"
        },
        "xaxis": {
         "anchor": "y",
         "autorange": true,
         "domain": [
          0,
          1
         ],
         "range": [
          -0.5,
          4.5
         ],
         "title": {
          "text": "index"
         },
         "type": "category"
        },
        "yaxis": {
         "anchor": "x",
         "autorange": true,
         "domain": [
          0,
          1
         ],
         "range": [
          0,
          183469.47368421053
         ],
         "title": {
          "text": "Count"
         },
         "type": "linear"
        }
       }
      },
      "image/png": "[encoded data removed]",
      "text/html": [
       "<div>                            <div id=\"7d053ae5-35a7-4984-a9fd-d9bb679800a6\" class=\"plotly-graph-div\" style=\"height:525px; width:100%;\"></div>            <script type=\"text/javascript\">                require([\"plotly\"], function(Plotly) {                    window.PLOTLYENV=window.PLOTLYENV || {};                                    if (document.getElementById(\"7d053ae5-35a7-4984-a9fd-d9bb679800a6\")) {                    Plotly.newPlot(                        \"7d053ae5-35a7-4984-a9fd-d9bb679800a6\",                        [{\"alignmentgroup\":\"True\",\"hovertemplate\":\"index=%{x}<br>Count=%{y}<extra></extra>\",\"legendgroup\":\"\",\"marker\":{\"color\":\"#636efa\",\"pattern\":{\"shape\":\"\"}},\"name\":\"\",\"offsetgroup\":\"\",\"orientation\":\"v\",\"showlegend\":false,\"textposition\":\"auto\",\"x\":[\"BODY-ARM\",\"Gun\",\"VERBAL THREAT\",\"Knife\",\"MACE/PEPPER SPRAY\"],\"xaxis\":\"x\",\"y\":[174296,32141,23786,18588,3728],\"yaxis\":\"y\",\"type\":\"bar\"}],                        {\"template\":{\"data\":{\"histogram2dcontour\":[{\"type\":\"histogram2dcontour\",\"colorbar\":{\"outlinewidth\":0,\"ticks\":\"\"},\"colorscale\":[[0.0,\"#0d0887\"],[0.1111111111111111,\"#46039f\"],[0.2222222222222222,\"#7201a8\"],[0.3333333333333333,\"#9c179e\"],[0.4444444444444444,\"#bd3786\"],[0.5555555555555556,\"#d8576b\"],[0.6666666666666666,\"#ed7953\"],[0.7777777777777778,\"#fb9f3a\"],[0.8888888888888888,\"#fdca26\"],[1.0,\"#f0f921\"]]}],\"choropleth\":[{\"type\":\"choropleth\",\"colorbar\":{\"outlinewidth\":0,\"ticks\":\"\"}}],\"histogram2d\":[{\"type\":\"histogram2d\",\"colorbar\":{\"outlinewidth\":0,\"ticks\":\"\"},\"colorscale\":[[0.0,\"#0d0887\"],[0.1111111111111111,\"#46039f\"],[0.2222222222222222,\"#7201a8\"],[0.3333333333333333,\"#9c179e\"],[0.4444444444444444,\"#bd3786\"],[0.5555555555555556,\"#d8576b\"],[0.6666666666666666,\"#ed7953\"],[0.7777777777777778,\"#fb9f3a\"],[0.8888888888888888,\"#fdca26\"],[1.0,\"#f0f921\"]]}],\"heatmap\":[{\"type\":\"heatmap\",\"colorbar\":{\"outlinewidth\":0,\"ticks\":\"\"},\"colorscale\":[[0.0,\"#0d0887\"],[0.1111111111111111,\"#46039f\"],[0.2222222222222222,\"#7201a8\"],[0.3333333333333333,\"#9c179e\"],[0.4444444444444444,\"#bd3786\"],[0.5555555555555556,\"#d8576b\"],[0.6666666666666666,\"#ed7953\"],[0.7777777777777778,\"#fb9f3a\"],[0.8888888888888888,\"#fdca26\"],[1.0,\"#f0f921\"]]}],\"heatmapgl\":[{\"type\":\"heatmapgl\",\"colorbar\":{\"outlinewidth\":0,\"ticks\":\"\"},\"colorscale\":[[0.0,\"#0d0887\"],[0.1111111111111111,\"#46039f\"],[0.2222222222222222,\"#7201a8\"],[0.3333333333333333,\"#9c179e\"],[0.4444444444444444,\"#bd3786\"],[0.5555555555555556,\"#d8576b\"],[0.6666666666666666,\"#ed7953\"],[0.7777777777777778,\"#fb9f3a\"],[0.8888888888888888,\"#fdca26\"],[1.0,\"#f0f921\"]]}],\"contourcarpet\":[{\"type\":\"contourcarpet\",\"colorbar\":{\"outlinewidth\":0,\"ticks\":\"\"}}],\"contour\":[{\"type\":\"contour\",\"colorbar\":{\"outlinewidth\":0,\"ticks\":\"\"},\"colorscale\":[[0.0,\"#0d0887\"],[0.1111111111111111,\"#46039f\"],[0.2222222222222222,\"#7201a8\"],[0.3333333333333333,\"#9c179e\"],[0.4444444444444444,\"#bd3786\"],[0.5555555555555556,\"#d8576b\"],[0.6666666666666666,\"#ed7953\"],[0.7777777777777778,\"#fb9f3a\"],[0.8888888888888888,\"#fdca26\"],[1.0,\"#f0f921\"]]}],\"surface\":[{\"type\":\"surface\",\"colorbar\":{\"outlinewidth\":0,\"ticks\":\"\"},\"colorscale\":[[0.0,\"#0d0887\"],[0.1111111111111111,\"#46039f\"],[0.2222222222222222,\"#7201a8\"],[0.3333333333333333,\"#9c179e\"],[0.4444444444444444,\"#bd3786\"],[0.5555555555555556,\"#d8576b\"],[0.6666666666666666,\"#ed7953\"],[0.7777777777777778,\"#fb9f3a\"],[0.8888888888888888,\"#fdca26\"],[1.0,\"#f0f921\"]]}],\"mesh3d\":[{\"type\":\"mesh3d\",\"colorbar\":{\"outlinewidth\":0,\"ticks\":\"\"}}],\"scatter\":[{\"fillpattern\":{\"fillmode\":\"overlay\",\"size\":10,\"solidity\":0.2},\"type\":\"scatter\"}],\"parcoords\":[{\"type\":\"parcoords\",\"line\":{\"colorbar\":{\"outlinewidth\":0,\"ticks\":\"\"}}}],\"scatterpolargl\":[{\"type\":\"scatterpolargl\",\"marker\":{\"colorbar\":{\"outlinewidth\":0,\"ticks\":\"\"}}}],\"bar\":[{\"error_x\":{\"color\":\"#2a3f5f\"},\"error_y\":{\"color\":\"#2a3f5f\"},\"marker\":{\"line\":{\"color\":\"#E5ECF6\",\"width\":0.5},\"pattern\":{\"fillmode\":\"overlay\",\"size\":10,\"solidity\":0.2}},\"type\":\"bar\"}],\"scattergeo\":[{\"type\":\"scattergeo\",\"marker\":{\"colorbar\":{\"outlinewidth\":0,\"ticks\":\"\"}}}],\"scatterpolar\":[{\"type\":\"scatterpolar\",\"marker\":{\"colorbar\":{\"outlinewidth\":0,\"ticks\":\"\"}}}],\"histogram\":[{\"marker\":{\"pattern\":{\"fillmode\":\"overlay\",\"size\":10,\"solidity\":0.2}},\"type\":\"histogram\"}],\"scattergl\":[{\"type\":\"scattergl\",\"marker\":{\"colorbar\":{\"outlinewidth\":0,\"ticks\":\"\"}}}],\"scatter3d\":[{\"type\":\"scatter3d\",\"line\":{\"colorbar\":{\"outlinewidth\":0,\"ticks\":\"\"}},\"marker\":{\"colorbar\":{\"outlinewidth\":0,\"ticks\":\"\"}}}],\"scattermapbox\":[{\"type\":\"scattermapbox\",\"marker\":{\"colorbar\":{\"outlinewidth\":0,\"ticks\":\"\"}}}],\"scatterternary\":[{\"type\":\"scatterternary\",\"marker\":{\"colorbar\":{\"outlinewidth\":0,\"ticks\":\"\"}}}],\"scattercarpet\":[{\"type\":\"scattercarpet\",\"marker\":{\"colorbar\":{\"outlinewidth\":0,\"ticks\":\"\"}}}],\"carpet\":[{\"aaxis\":{\"endlinecolor\":\"#2a3f5f\",\"gridcolor\":\"white\",\"linecolor\":\"white\",\"minorgridcolor\":\"white\",\"startlinecolor\":\"#2a3f5f\"},\"baxis\":{\"endlinecolor\":\"#2a3f5f\",\"gridcolor\":\"white\",\"linecolor\":\"white\",\"minorgridcolor\":\"white\",\"startlinecolor\":\"#2a3f5f\"},\"type\":\"carpet\"}],\"table\":[{\"cells\":{\"fill\":{\"color\":\"#EBF0F8\"},\"line\":{\"color\":\"white\"}},\"header\":{\"fill\":{\"color\":\"#C8D4E3\"},\"line\":{\"color\":\"white\"}},\"type\":\"table\"}],\"barpolar\":[{\"marker\":{\"line\":{\"color\":\"#E5ECF6\",\"width\":0.5},\"pattern\":{\"fillmode\":\"overlay\",\"size\":10,\"solidity\":0.2}},\"type\":\"barpolar\"}],\"pie\":[{\"automargin\":true,\"type\":\"pie\"}]},\"layout\":{\"autotypenumbers\":\"strict\",\"colorway\":[\"#636efa\",\"#EF553B\",\"#00cc96\",\"#ab63fa\",\"#FFA15A\",\"#19d3f3\",\"#FF6692\",\"#B6E880\",\"#FF97FF\",\"#FECB52\"],\"font\":{\"color\":\"#2a3f5f\"},\"hovermode\":\"closest\",\"hoverlabel\":{\"align\":\"left\"},\"paper_bgcolor\":\"white\",\"plot_bgcolor\":\"#E5ECF6\",\"polar\":{\"bgcolor\":\"#E5ECF6\",\"angularaxis\":{\"gridcolor\":\"white\",\"linecolor\":\"white\",\"ticks\":\"\"},\"radialaxis\":{\"gridcolor\":\"white\",\"linecolor\":\"white\",\"ticks\":\"\"}},\"ternary\":{\"bgcolor\":\"#E5ECF6\",\"aaxis\":{\"gridcolor\":\"white\",\"linecolor\":\"white\",\"ticks\":\"\"},\"baxis\":{\"gridcolor\":\"white\",\"linecolor\":\"white\",\"ticks\":\"\"},\"caxis\":{\"gridcolor\":\"white\",\"linecolor\":\"white\",\"ticks\":\"\"}},\"coloraxis\":{\"colorbar\":{\"outlinewidth\":0,\"ticks\":\"\"}},\"colorscale\":{\"sequential\":[[0.0,\"#0d0887\"],[0.1111111111111111,\"#46039f\"],[0.2222222222222222,\"#7201a8\"],[0.3333333333333333,\"#9c179e\"],[0.4444444444444444,\"#bd3786\"],[0.5555555555555556,\"#d8576b\"],[0.6666666666666666,\"#ed7953\"],[0.7777777777777778,\"#fb9f3a\"],[0.8888888888888888,\"#fdca26\"],[1.0,\"#f0f921\"]],\"sequentialminus\":[[0.0,\"#0d0887\"],[0.1111111111111111,\"#46039f\"],[0.2222222222222222,\"#7201a8\"],[0.3333333333333333,\"#9c179e\"],[0.4444444444444444,\"#bd3786\"],[0.5555555555555556,\"#d8576b\"],[0.6666666666666666,\"#ed7953\"],[0.7777777777777778,\"#fb9f3a\"],[0.8888888888888888,\"#fdca26\"],[1.0,\"#f0f921\"]],\"diverging\":[[0,\"#8e0152\"],[0.1,\"#c51b7d\"],[0.2,\"#de77ae\"],[0.3,\"#f1b6da\"],[0.4,\"#fde0ef\"],[0.5,\"#f7f7f7\"],[0.6,\"#e6f5d0\"],[0.7,\"#b8e186\"],[0.8,\"#7fbc41\"],[0.9,\"#4d9221\"],[1,\"#276419\"]]},\"xaxis\":{\"gridcolor\":\"white\",\"linecolor\":\"white\",\"ticks\":\"\",\"title\":{\"standoff\":15},\"zerolinecolor\":\"white\",\"automargin\":true,\"zerolinewidth\":2},\"yaxis\":{\"gridcolor\":\"white\",\"linecolor\":\"white\",\"ticks\":\"\",\"title\":{\"standoff\":15},\"zerolinecolor\":\"white\",\"automargin\":true,\"zerolinewidth\":2},\"scene\":{\"xaxis\":{\"backgroundcolor\":\"#E5ECF6\",\"gridcolor\":\"white\",\"linecolor\":\"white\",\"showbackground\":true,\"ticks\":\"\",\"zerolinecolor\":\"white\",\"gridwidth\":2},\"yaxis\":{\"backgroundcolor\":\"#E5ECF6\",\"gridcolor\":\"white\",\"linecolor\":\"white\",\"showbackground\":true,\"ticks\":\"\",\"zerolinecolor\":\"white\",\"gridwidth\":2},\"zaxis\":{\"backgroundcolor\":\"#E5ECF6\",\"gridcolor\":\"white\",\"linecolor\":\"white\",\"showbackground\":true,\"ticks\":\"\",\"zerolinecolor\":\"white\",\"gridwidth\":2}},\"shapedefaults\":{\"line\":{\"color\":\"#2a3f5f\"}},\"annotationdefaults\":{\"arrowcolor\":\"#2a3f5f\",\"arrowhead\":0,\"arrowwidth\":1},\"geo\":{\"bgcolor\":\"white\",\"landcolor\":\"#E5ECF6\",\"subunitcolor\":\"white\",\"showland\":true,\"showlakes\":true,\"lakecolor\":\"white\"},\"title\":{\"x\":0.05},\"mapbox\":{\"style\":\"light\"}}},\"xaxis\":{\"anchor\":\"y\",\"domain\":[0.0,1.0],\"title\":{\"text\":\"index\"}},\"yaxis\":{\"anchor\":\"x\",\"domain\":[0.0,1.0],\"title\":{\"text\":\"Count\"}},\"legend\":{\"tracegroupgap\":0},\"title\":{\"text\":\"Top 10 Weapons Used in Crimes\"},\"barmode\":\"relative\"},                        {\"responsive\": true}                    ).then(function(){\n",
       "                            \n",
       "var gd = document.getElementById('7d053ae5-35a7-4984-a9fd-d9bb679800a6');\n",
       "var x = new MutationObserver(function (mutations, observer) {{\n",
       "        var display = window.getComputedStyle(gd).display;\n",
       "        if (!display || display === 'none') {{\n",
       "            console.log([gd, 'removed!']);\n",
       "            Plotly.purge(gd);\n",
       "            observer.disconnect();\n",
       "        }}\n",
       "}});\n",
       "\n",
       "// Listen for the removal of the full notebook cells\n",
       "var notebookContainer = gd.closest('#notebook-container');\n",
       "if (notebookContainer) {{\n",
       "    x.observe(notebookContainer, {childList: true});\n",
       "}}\n",
       "\n",
       "// Listen for the clearing of the current output cell\n",
       "var outputEl = gd.closest('.output');\n",
       "if (outputEl) {{\n",
       "    x.observe(outputEl, {childList: true});\n",
       "}}\n",
       "\n",
       "                        })                };                });            </script>        </div>"
      ]
     },
     "metadata": {},
     "output_type": "display_data"
    }
   ],
   "source": [
    "# Visualisasi \"Weapon\" yang digunakan untuk kejahatan tanpa kategori \"Unknown\"\n",
    "top_10_weapons = df_imputed[~df_imputed['item'].isin(['Unknown'])]\n",
    "top_5_weapons_selected = top_10_weapons.item.value_counts().head(5)\n",
    "\n",
    "fig = px.bar(top_5_weapons_selected, x=top_5_weapons_selected.index, y=top_5_weapons_selected.values,\n",
    "             labels={'x': 'Weapon', 'y': 'Count'},\n",
    "             title='Top 10 Weapons Used in Crimes')\n",
    "# fig.update_xaxes(tickangle=20)\n",
    "fig.show()"
   ]
  },
  {
   "cell_type": "markdown",
   "metadata": {
    "id": "mhh6On7h2wLk"
   },
   "source": [
    "## Lokasi yang sering terjadi Kejahatan\n",
    "\n",
    "Kolom yang digunakan <code>Area</code>"
   ]
  },
  {
   "cell_type": "code",
   "execution_count": 28,
   "metadata": {},
   "outputs": [
    {
     "data": {
      "image/png": "[encoded data removed]",
      "text/plain": [
       "<Figure size 720x432 with 1 Axes>"
      ]
     },
     "metadata": {
      "needs_background": "light"
     },
     "output_type": "display_data"
    }
   ],
   "source": [
    "category_counts = df_imputed['Area'].value_counts().reset_index()\n",
    "category_counts.columns = ['Area', 'Count']\n",
    "\n",
    "# Create the bar plot using Seaborn\n",
    "plt.figure(figsize=(10, 6))\n",
    "bar_plot = sns.barplot(x='Area', y='Count', data=category_counts, palette=\"plasma\")\n",
    "\n",
    "# Customize the plot\n",
    "plt.title(\"Bar Chart with Seaborn Plasma Color Palette\")\n",
    "plt.xlabel('Area')\n",
    "plt.ylabel('Value')\n",
    "plt.xticks(rotation=45)\n",
    "\n",
    "# Get the max and min values\n",
    "max_value = category_counts['Count'].max()\n",
    "min_value = category_counts['Count'].min()\n",
    "max_category = category_counts.loc[category_counts['Count'] == max_value, 'Area'].values[0]\n",
    "min_category = category_counts.loc[category_counts['Count'] == min_value, 'Area'].values[0]\n",
    "\n",
    "# Add annotations for the highest bar (max)\n",
    "plt.text(category_counts[category_counts['Area'] == max_category].index[0], max_value + 0.2, \n",
    "         f\"Max: {max_value}\", color='green', ha='center', va='bottom', fontsize=12, \n",
    "         backgroundcolor='lightgreen')\n",
    "\n",
    "# Add annotations for the lowest bar (min)\n",
    "plt.text(category_counts[category_counts['Area'] == min_category].index[0], min_value + 0.2, \n",
    "         f\"Min: {min_value}\", color='red', ha='center', va='bottom', fontsize=12, \n",
    "         backgroundcolor='lightcoral')\n",
    "\n",
    "# Show the plot\n",
    "plt.tight_layout()\n",
    "plt.show()"
   ]
  },
  {
   "cell_type": "markdown",
   "metadata": {
    "id": "iwZ0MFwv5PWf"
   },
   "source": [
    "## Korelasi Heatmap"
   ]
  },
  {
   "cell_type": "code",
   "execution_count": null,
   "metadata": {},
   "outputs": [],
   "source": []
  },
  {
   "cell_type": "markdown",
   "metadata": {},
   "source": [
    "# Modelling"
   ]
  },
  {
   "cell_type": "code",
   "execution_count": null,
   "metadata": {},
   "outputs": [],
   "source": [
    "train_data = df_imputed[[\"\",\"\",\"\"]]"
   ]
  },
  {
   "cell_type": "code",
   "execution_count": null,
   "metadata": {},
   "outputs": [],
   "source": [
    "import time\n",
    "from sklearn.cluster import KMeans\n",
    "start_time = time.time()\n",
    "cs = []\n",
    "for i in range(1, 11):\n",
    "    kmeans = KMeans(n_clusters = i, init = 'k-means++', max_iter = 300, n_init = 10, random_state = 0)\n",
    "    kmeans.fit(dfmodel2013_2014)\n",
    "    cs.append(kmeans.inertia_)\n",
    "plt.plot(range(1, 11), cs)\n",
    "plt.title('The Elbow Method')\n",
    "plt.xlabel('Number of clusters')\n",
    "plt.ylabel('CS')\n",
    "plt.show()\n",
    "\n",
    "end_time = time.time()\n",
    "elapsed_time = end_time - start_time\n",
    "print(f\"Program execution time: {elapsed_time} seconds\")"
   ]
  },
  {
   "cell_type": "code",
   "execution_count": null,
   "metadata": {},
   "outputs": [],
   "source": []
  }
 ],
 "metadata": {
  "accelerator": "GPU",
  "colab": {
   "gpuType": "T4",
   "provenance": []
  },
  "kernelspec": {
   "display_name": "Python 3 (ipykernel)",
   "language": "python",
   "name": "python3"
  },
  "language_info": {
   "codemirror_mode": {
    "name": "ipython",
    "version": 3
   },
   "file_extension": ".py",
   "mimetype": "text/x-python",
   "name": "python",
   "nbconvert_exporter": "python",
   "pygments_lexer": "ipython3",
   "version": "3.8.10"
  }
 },
 "nbformat": 4,
 "nbformat_minor": 4
}
